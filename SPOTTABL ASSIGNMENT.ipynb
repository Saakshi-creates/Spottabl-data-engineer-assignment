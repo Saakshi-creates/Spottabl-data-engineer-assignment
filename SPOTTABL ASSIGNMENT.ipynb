{
 "cells": [
  {
   "cell_type": "markdown",
   "id": "d81b871b",
   "metadata": {},
   "source": [
    "## Assignment By:- Saakshi Srivastava"
   ]
  },
  {
   "cell_type": "markdown",
   "id": "34d49a91",
   "metadata": {},
   "source": [
    "## Data Engineer Assignment:-\n",
    "\n",
    "### For this assignment, you’ll be provided with a dataset of companies as a list of JSON objects. Each object holds relevant data for a company. The fields are described below:\n",
    "\n",
    "tags: the domains company operates in\n",
    "\n",
    "companyName: synonyms of the company\n",
    "\n",
    "domainName: extracted from the company website’s URL.\n",
    "\n",
    "companyDesc: a short description of the company's operations\n",
    "\n",
    "fundingList: details regarding the company’s funding rounds\n",
    "\n",
    "crunchbase_url: URL to the company’s Crunchbase page\n",
    "\n",
    "employeeNumber: number of employees in the company at the time data was extracted\n",
    "\n",
    "foundedDate: date the company was founded on\n",
    "\n",
    "companyWebsite: URL to company’s website\n",
    "\n",
    "domain_groups: listing out possible groups the company may belong to. (this is our internal classification, may not be accurate)\n",
    "\n",
    "TYPE: another internal classification (for product, and service-based companies), may not be accurate"
   ]
  },
  {
   "cell_type": "markdown",
   "id": "67fa6b85",
   "metadata": {},
   "source": [
    "#### Given a company name (similar to ones present in companyName), return the close competitors of the company, using any of the fields (or combination of fields) from the dataset. For example, competitors of Swiggy would be Zomato, FoodPanda, DoorDash, etc. Since all of them operate in similar domains and offer similar services.\n",
    "\n",
    "#### Given a domain (any one of the domains in ‘tags’ field), present the companies with the fastest, and the slowest growth (hint: it may be based on the fundingList, foundedDate, etc)\n",
    "\n",
    "#### Present any insights from the data that you found interesting. (this exercise carries bonus points, but isn’t necessary"
   ]
  },
  {
   "cell_type": "markdown",
   "id": "16f75af6",
   "metadata": {},
   "source": [
    "## I've divided this assignment into 4 parts:\n",
    "1. Cleaning a missing value imputation\n",
    "2. Finding competitors algorithm\n",
    "3. Getting slowest and the fastest growing companies as per the domain\n",
    "4. Using tableau to get some insights based on the companies"
   ]
  },
  {
   "cell_type": "code",
   "execution_count": 1,
   "id": "410e1859",
   "metadata": {},
   "outputs": [],
   "source": [
    "#Importing libraries to load the dataset\n",
    "import json\n",
    "import csv"
   ]
  },
  {
   "cell_type": "code",
   "execution_count": 2,
   "id": "860cb8b0",
   "metadata": {},
   "outputs": [
    {
     "name": "stdout",
     "output_type": "stream",
     "text": [
      "{'encoding': 'ascii', 'confidence': 1.0, 'language': ''}\n"
     ]
    }
   ],
   "source": [
    "import urllib.request\n",
    "import chardet\n",
    "\n",
    "def detect_encoding(data):\n",
    "    \"\"\"\n",
    "    Detects the encoding of the given byte data using chardet.\n",
    "\n",
    "    Args:\n",
    "        data (bytes): The byte data to detect encoding for.\n",
    "\n",
    "    Returns:\n",
    "        The detected encoding as a dictionary with the 'encoding' key.\n",
    "    \"\"\"\n",
    "    return chardet.detect(data)\n",
    "\n",
    "rawdata = urllib.request.urlopen('https://drive.google.com/file/d/1SmVM3neMmnQ5pdW5Jr1i_av32rwgwabU/view').read()\n",
    "encoding = detect_encoding(rawdata)\n",
    "print(encoding)"
   ]
  },
  {
   "cell_type": "code",
   "execution_count": 3,
   "id": "4abab88a",
   "metadata": {},
   "outputs": [],
   "source": [
    "import pandas as pd\n",
    "import numpy as np\n",
    "import pandas as pd\n",
    "import matplotlib.pyplot as plt\n",
    "import seaborn as sns\n",
    "import warnings\n",
    "warnings.filterwarnings('ignore')"
   ]
  },
  {
   "cell_type": "code",
   "execution_count": 4,
   "id": "178cbf4f",
   "metadata": {},
   "outputs": [],
   "source": [
    "#I had converted the json file to csv to make it easier and now I'm loading the file for further processes.\n",
    "data=pd.read_csv(\"domaintags.csv\")"
   ]
  },
  {
   "cell_type": "code",
   "execution_count": 5,
   "id": "80e3e984",
   "metadata": {},
   "outputs": [
    {
     "data": {
      "text/html": [
       "<div>\n",
       "<style scoped>\n",
       "    .dataframe tbody tr th:only-of-type {\n",
       "        vertical-align: middle;\n",
       "    }\n",
       "\n",
       "    .dataframe tbody tr th {\n",
       "        vertical-align: top;\n",
       "    }\n",
       "\n",
       "    .dataframe thead th {\n",
       "        text-align: right;\n",
       "    }\n",
       "</style>\n",
       "<table border=\"1\" class=\"dataframe\">\n",
       "  <thead>\n",
       "    <tr style=\"text-align: right;\">\n",
       "      <th></th>\n",
       "      <th>_id/$oid</th>\n",
       "      <th>tags/0</th>\n",
       "      <th>tags/1</th>\n",
       "      <th>companyName</th>\n",
       "      <th>domainName</th>\n",
       "      <th>crunchbase_url</th>\n",
       "      <th>TYPE</th>\n",
       "      <th>UpdatedOn/$date</th>\n",
       "      <th>companyDesc</th>\n",
       "      <th>companyWebsite</th>\n",
       "      <th>...</th>\n",
       "      <th>tags/14</th>\n",
       "      <th>tags/15</th>\n",
       "      <th>tags/16</th>\n",
       "      <th>tags/17</th>\n",
       "      <th>tags/18</th>\n",
       "      <th>tags/19</th>\n",
       "      <th>tags/20</th>\n",
       "      <th>tags/21</th>\n",
       "      <th>tags/22</th>\n",
       "      <th>fundingList/8/leadInvestors/2</th>\n",
       "    </tr>\n",
       "  </thead>\n",
       "  <tbody>\n",
       "    <tr>\n",
       "      <th>0</th>\n",
       "      <td>5d09dfd68501d21d7d729bb1</td>\n",
       "      <td>finance</td>\n",
       "      <td>insurance</td>\n",
       "      <td>21st century insurance</td>\n",
       "      <td>21st</td>\n",
       "      <td>https://www.crunchbase.com/organization/21st-c...</td>\n",
       "      <td>Product-based</td>\n",
       "      <td>2020-01-18T03:39:34.845Z</td>\n",
       "      <td>since 1958, 21st century insurance has been de...</td>\n",
       "      <td>www.21st.com</td>\n",
       "      <td>...</td>\n",
       "      <td>NaN</td>\n",
       "      <td>NaN</td>\n",
       "      <td>NaN</td>\n",
       "      <td>NaN</td>\n",
       "      <td>NaN</td>\n",
       "      <td>NaN</td>\n",
       "      <td>NaN</td>\n",
       "      <td>NaN</td>\n",
       "      <td>NaN</td>\n",
       "      <td>NaN</td>\n",
       "    </tr>\n",
       "    <tr>\n",
       "      <th>1</th>\n",
       "      <td>5d09dfd78501d21d7d729bbb</td>\n",
       "      <td>3d technology</td>\n",
       "      <td>NaN</td>\n",
       "      <td>3d networks</td>\n",
       "      <td>3dnetworks</td>\n",
       "      <td>https://www.crunchbase.com/organization/3d-net...</td>\n",
       "      <td>Product-based</td>\n",
       "      <td>2020-01-20T15:10:33.852Z</td>\n",
       "      <td>NaN</td>\n",
       "      <td>www.3dnetworks.com</td>\n",
       "      <td>...</td>\n",
       "      <td>NaN</td>\n",
       "      <td>NaN</td>\n",
       "      <td>NaN</td>\n",
       "      <td>NaN</td>\n",
       "      <td>NaN</td>\n",
       "      <td>NaN</td>\n",
       "      <td>NaN</td>\n",
       "      <td>NaN</td>\n",
       "      <td>NaN</td>\n",
       "      <td>NaN</td>\n",
       "    </tr>\n",
       "    <tr>\n",
       "      <th>2</th>\n",
       "      <td>5d09dfd78501d21d7d729bbc</td>\n",
       "      <td>3d technology</td>\n",
       "      <td>augmented reality</td>\n",
       "      <td>3dphy</td>\n",
       "      <td>3dphy</td>\n",
       "      <td>https://www.crunchbase.com/organization/3dphy-...</td>\n",
       "      <td>Product-based</td>\n",
       "      <td>2020-01-16T11:44:30.116Z</td>\n",
       "      <td>3dphy provides a range of 3d virtual and augme...</td>\n",
       "      <td>www.3dphy.com</td>\n",
       "      <td>...</td>\n",
       "      <td>NaN</td>\n",
       "      <td>NaN</td>\n",
       "      <td>NaN</td>\n",
       "      <td>NaN</td>\n",
       "      <td>NaN</td>\n",
       "      <td>NaN</td>\n",
       "      <td>NaN</td>\n",
       "      <td>NaN</td>\n",
       "      <td>NaN</td>\n",
       "      <td>NaN</td>\n",
       "    </tr>\n",
       "    <tr>\n",
       "      <th>3</th>\n",
       "      <td>5d09dfd78501d21d7d729bbe</td>\n",
       "      <td>android</td>\n",
       "      <td>enterprise software</td>\n",
       "      <td>3lm</td>\n",
       "      <td>3lm</td>\n",
       "      <td>https://www.crunchbase.com/organization/3lm?ut...</td>\n",
       "      <td>Product-based</td>\n",
       "      <td>2020-01-21T12:50:14.767Z</td>\n",
       "      <td>3lm has already signed deals to provide its te...</td>\n",
       "      <td>www.3lm.com</td>\n",
       "      <td>...</td>\n",
       "      <td>NaN</td>\n",
       "      <td>NaN</td>\n",
       "      <td>NaN</td>\n",
       "      <td>NaN</td>\n",
       "      <td>NaN</td>\n",
       "      <td>NaN</td>\n",
       "      <td>NaN</td>\n",
       "      <td>NaN</td>\n",
       "      <td>NaN</td>\n",
       "      <td>NaN</td>\n",
       "    </tr>\n",
       "    <tr>\n",
       "      <th>4</th>\n",
       "      <td>5d09dfd78501d21d7d729bbf</td>\n",
       "      <td>automotive</td>\n",
       "      <td>electronics</td>\n",
       "      <td>3m</td>\n",
       "      <td>3m</td>\n",
       "      <td>https://www.crunchbase.com/organization/3m?utm...</td>\n",
       "      <td>Product-based</td>\n",
       "      <td>2020-01-17T17:56:53.792Z</td>\n",
       "      <td>3m operates as a diversified technology compan...</td>\n",
       "      <td>www.3m.com</td>\n",
       "      <td>...</td>\n",
       "      <td>NaN</td>\n",
       "      <td>NaN</td>\n",
       "      <td>NaN</td>\n",
       "      <td>NaN</td>\n",
       "      <td>NaN</td>\n",
       "      <td>NaN</td>\n",
       "      <td>NaN</td>\n",
       "      <td>NaN</td>\n",
       "      <td>NaN</td>\n",
       "      <td>NaN</td>\n",
       "    </tr>\n",
       "  </tbody>\n",
       "</table>\n",
       "<p>5 rows × 176 columns</p>\n",
       "</div>"
      ],
      "text/plain": [
       "                   _id/$oid         tags/0               tags/1  \\\n",
       "0  5d09dfd68501d21d7d729bb1        finance            insurance   \n",
       "1  5d09dfd78501d21d7d729bbb  3d technology                  NaN   \n",
       "2  5d09dfd78501d21d7d729bbc  3d technology    augmented reality   \n",
       "3  5d09dfd78501d21d7d729bbe        android  enterprise software   \n",
       "4  5d09dfd78501d21d7d729bbf     automotive          electronics   \n",
       "\n",
       "              companyName  domainName  \\\n",
       "0  21st century insurance        21st   \n",
       "1             3d networks  3dnetworks   \n",
       "2                   3dphy       3dphy   \n",
       "3                     3lm         3lm   \n",
       "4                      3m          3m   \n",
       "\n",
       "                                      crunchbase_url           TYPE  \\\n",
       "0  https://www.crunchbase.com/organization/21st-c...  Product-based   \n",
       "1  https://www.crunchbase.com/organization/3d-net...  Product-based   \n",
       "2  https://www.crunchbase.com/organization/3dphy-...  Product-based   \n",
       "3  https://www.crunchbase.com/organization/3lm?ut...  Product-based   \n",
       "4  https://www.crunchbase.com/organization/3m?utm...  Product-based   \n",
       "\n",
       "            UpdatedOn/$date  \\\n",
       "0  2020-01-18T03:39:34.845Z   \n",
       "1  2020-01-20T15:10:33.852Z   \n",
       "2  2020-01-16T11:44:30.116Z   \n",
       "3  2020-01-21T12:50:14.767Z   \n",
       "4  2020-01-17T17:56:53.792Z   \n",
       "\n",
       "                                         companyDesc      companyWebsite  ...  \\\n",
       "0  since 1958, 21st century insurance has been de...        www.21st.com  ...   \n",
       "1                                                NaN  www.3dnetworks.com  ...   \n",
       "2  3dphy provides a range of 3d virtual and augme...       www.3dphy.com  ...   \n",
       "3  3lm has already signed deals to provide its te...         www.3lm.com  ...   \n",
       "4  3m operates as a diversified technology compan...          www.3m.com  ...   \n",
       "\n",
       "   tags/14  tags/15  tags/16  tags/17  tags/18 tags/19 tags/20 tags/21  \\\n",
       "0      NaN      NaN      NaN      NaN      NaN     NaN     NaN     NaN   \n",
       "1      NaN      NaN      NaN      NaN      NaN     NaN     NaN     NaN   \n",
       "2      NaN      NaN      NaN      NaN      NaN     NaN     NaN     NaN   \n",
       "3      NaN      NaN      NaN      NaN      NaN     NaN     NaN     NaN   \n",
       "4      NaN      NaN      NaN      NaN      NaN     NaN     NaN     NaN   \n",
       "\n",
       "  tags/22 fundingList/8/leadInvestors/2  \n",
       "0     NaN                           NaN  \n",
       "1     NaN                           NaN  \n",
       "2     NaN                           NaN  \n",
       "3     NaN                           NaN  \n",
       "4     NaN                           NaN  \n",
       "\n",
       "[5 rows x 176 columns]"
      ]
     },
     "execution_count": 5,
     "metadata": {},
     "output_type": "execute_result"
    }
   ],
   "source": [
    "data.head()"
   ]
  },
  {
   "cell_type": "code",
   "execution_count": 6,
   "id": "aebe26a3",
   "metadata": {},
   "outputs": [
    {
     "name": "stdout",
     "output_type": "stream",
     "text": [
      "<class 'pandas.core.frame.DataFrame'>\n",
      "RangeIndex: 7462 entries, 0 to 7461\n",
      "Columns: 176 entries, _id/$oid to fundingList/8/leadInvestors/2\n",
      "dtypes: float64(28), object(148)\n",
      "memory usage: 10.0+ MB\n"
     ]
    }
   ],
   "source": [
    "#The daatset contains 176 columns which is a big number\n",
    "data.info()"
   ]
  },
  {
   "cell_type": "code",
   "execution_count": 7,
   "id": "46550624",
   "metadata": {},
   "outputs": [
    {
     "data": {
      "text/plain": [
       "(7462, 176)"
      ]
     },
     "execution_count": 7,
     "metadata": {},
     "output_type": "execute_result"
    }
   ],
   "source": [
    "#The dataset consists of 7462 rows.\n",
    "data.shape"
   ]
  },
  {
   "cell_type": "code",
   "execution_count": 8,
   "id": "a2ebc0a0",
   "metadata": {},
   "outputs": [
    {
     "data": {
      "text/plain": [
       "Index(['_id/$oid', 'tags/0', 'tags/1', 'companyName', 'domainName',\n",
       "       'crunchbase_url', 'TYPE', 'UpdatedOn/$date', 'companyDesc',\n",
       "       'companyWebsite',\n",
       "       ...\n",
       "       'tags/14', 'tags/15', 'tags/16', 'tags/17', 'tags/18', 'tags/19',\n",
       "       'tags/20', 'tags/21', 'tags/22', 'fundingList/8/leadInvestors/2'],\n",
       "      dtype='object', length=176)"
      ]
     },
     "execution_count": 8,
     "metadata": {},
     "output_type": "execute_result"
    }
   ],
   "source": [
    "data.columns"
   ]
  },
  {
   "cell_type": "code",
   "execution_count": 9,
   "id": "57cdda10",
   "metadata": {},
   "outputs": [
    {
     "data": {
      "text/plain": [
       "_id/$oid                            0\n",
       "tags/0                            116\n",
       "tags/1                           1243\n",
       "companyName                         0\n",
       "domainName                          0\n",
       "                                 ... \n",
       "tags/19                          7461\n",
       "tags/20                          7461\n",
       "tags/21                          7461\n",
       "tags/22                          7461\n",
       "fundingList/8/leadInvestors/2    7461\n",
       "Length: 176, dtype: int64"
      ]
     },
     "execution_count": 9,
     "metadata": {},
     "output_type": "execute_result"
    }
   ],
   "source": [
    "#Many columns have empty values.\n",
    "data.isnull().sum()"
   ]
  },
  {
   "cell_type": "code",
   "execution_count": 10,
   "id": "64fac216",
   "metadata": {},
   "outputs": [
    {
     "data": {
      "text/html": [
       "<div>\n",
       "<style scoped>\n",
       "    .dataframe tbody tr th:only-of-type {\n",
       "        vertical-align: middle;\n",
       "    }\n",
       "\n",
       "    .dataframe tbody tr th {\n",
       "        vertical-align: top;\n",
       "    }\n",
       "\n",
       "    .dataframe thead th {\n",
       "        text-align: right;\n",
       "    }\n",
       "</style>\n",
       "<table border=\"1\" class=\"dataframe\">\n",
       "  <thead>\n",
       "    <tr style=\"text-align: right;\">\n",
       "      <th></th>\n",
       "      <th>employeeNumber/max</th>\n",
       "      <th>employeeNumber/min</th>\n",
       "      <th>foundedDate/$date/$numberLong</th>\n",
       "      <th>domain_groups/Fintech/ Payments</th>\n",
       "      <th>domain_groups/Insurtech</th>\n",
       "      <th>fundingList/0/noOfInvestors</th>\n",
       "      <th>domain_groups/Developer Tools</th>\n",
       "      <th>domain_groups/Hardware</th>\n",
       "      <th>domain_groups/Automotive</th>\n",
       "      <th>domain_groups/Healthcare</th>\n",
       "      <th>...</th>\n",
       "      <th>domain_groups/Social Networking</th>\n",
       "      <th>domain_groups/Venture Capital</th>\n",
       "      <th>domain_groups/E-Commerce</th>\n",
       "      <th>fundingList/4/noOfInvestors</th>\n",
       "      <th>fundingList/5/noOfInvestors</th>\n",
       "      <th>fundingList/6/noOfInvestors</th>\n",
       "      <th>fundingList/7/noOfInvestors</th>\n",
       "      <th>fundingList/8/noOfInvestors</th>\n",
       "      <th>fundingList/9/noOfInvestors</th>\n",
       "      <th>fundingList/0/fundingDate/$date/$numberLong</th>\n",
       "    </tr>\n",
       "  </thead>\n",
       "  <tbody>\n",
       "    <tr>\n",
       "      <th>count</th>\n",
       "      <td>6604.000000</td>\n",
       "      <td>6604.000000</td>\n",
       "      <td>1.021000e+03</td>\n",
       "      <td>634.000000</td>\n",
       "      <td>162.000000</td>\n",
       "      <td>1808.000000</td>\n",
       "      <td>143.000000</td>\n",
       "      <td>310.000000</td>\n",
       "      <td>137.000000</td>\n",
       "      <td>466.000000</td>\n",
       "      <td>...</td>\n",
       "      <td>47.000000</td>\n",
       "      <td>193.000000</td>\n",
       "      <td>307.000000</td>\n",
       "      <td>420.00000</td>\n",
       "      <td>296.000000</td>\n",
       "      <td>194.000000</td>\n",
       "      <td>133.000000</td>\n",
       "      <td>92.000000</td>\n",
       "      <td>67.000000</td>\n",
       "      <td>1.000000e+00</td>\n",
       "    </tr>\n",
       "    <tr>\n",
       "      <th>mean</th>\n",
       "      <td>2879.560872</td>\n",
       "      <td>536.351302</td>\n",
       "      <td>-1.599206e+12</td>\n",
       "      <td>0.817677</td>\n",
       "      <td>0.754944</td>\n",
       "      <td>2.298673</td>\n",
       "      <td>0.666960</td>\n",
       "      <td>0.718989</td>\n",
       "      <td>0.711899</td>\n",
       "      <td>0.811185</td>\n",
       "      <td>...</td>\n",
       "      <td>0.698052</td>\n",
       "      <td>0.770349</td>\n",
       "      <td>0.755408</td>\n",
       "      <td>2.97381</td>\n",
       "      <td>3.148649</td>\n",
       "      <td>2.835052</td>\n",
       "      <td>2.631579</td>\n",
       "      <td>3.673913</td>\n",
       "      <td>3.313433</td>\n",
       "      <td>-4.480920e+10</td>\n",
       "    </tr>\n",
       "    <tr>\n",
       "      <th>std</th>\n",
       "      <td>3979.534266</td>\n",
       "      <td>1227.953979</td>\n",
       "      <td>1.389107e+12</td>\n",
       "      <td>0.089529</td>\n",
       "      <td>0.081077</td>\n",
       "      <td>2.163581</td>\n",
       "      <td>0.056874</td>\n",
       "      <td>0.080721</td>\n",
       "      <td>0.081340</td>\n",
       "      <td>0.087860</td>\n",
       "      <td>...</td>\n",
       "      <td>0.078503</td>\n",
       "      <td>0.093617</td>\n",
       "      <td>0.075075</td>\n",
       "      <td>2.34735</td>\n",
       "      <td>2.806445</td>\n",
       "      <td>2.659153</td>\n",
       "      <td>2.333789</td>\n",
       "      <td>8.844330</td>\n",
       "      <td>2.413403</td>\n",
       "      <td>NaN</td>\n",
       "    </tr>\n",
       "    <tr>\n",
       "      <th>min</th>\n",
       "      <td>10.000000</td>\n",
       "      <td>0.000000</td>\n",
       "      <td>-1.123420e+13</td>\n",
       "      <td>0.600753</td>\n",
       "      <td>0.602922</td>\n",
       "      <td>1.000000</td>\n",
       "      <td>0.600037</td>\n",
       "      <td>0.601678</td>\n",
       "      <td>0.601594</td>\n",
       "      <td>0.601643</td>\n",
       "      <td>...</td>\n",
       "      <td>0.603195</td>\n",
       "      <td>0.601607</td>\n",
       "      <td>0.600451</td>\n",
       "      <td>1.00000</td>\n",
       "      <td>1.000000</td>\n",
       "      <td>1.000000</td>\n",
       "      <td>1.000000</td>\n",
       "      <td>1.000000</td>\n",
       "      <td>1.000000</td>\n",
       "      <td>-4.480920e+10</td>\n",
       "    </tr>\n",
       "    <tr>\n",
       "      <th>25%</th>\n",
       "      <td>50.000000</td>\n",
       "      <td>11.000000</td>\n",
       "      <td>-2.303560e+12</td>\n",
       "      <td>0.764126</td>\n",
       "      <td>0.697041</td>\n",
       "      <td>1.000000</td>\n",
       "      <td>0.624372</td>\n",
       "      <td>0.642816</td>\n",
       "      <td>0.645629</td>\n",
       "      <td>0.761584</td>\n",
       "      <td>...</td>\n",
       "      <td>0.636311</td>\n",
       "      <td>0.687818</td>\n",
       "      <td>0.705550</td>\n",
       "      <td>1.00000</td>\n",
       "      <td>1.000000</td>\n",
       "      <td>1.000000</td>\n",
       "      <td>1.000000</td>\n",
       "      <td>1.000000</td>\n",
       "      <td>1.000000</td>\n",
       "      <td>-4.480920e+10</td>\n",
       "    </tr>\n",
       "    <tr>\n",
       "      <th>50%</th>\n",
       "      <td>500.000000</td>\n",
       "      <td>51.000000</td>\n",
       "      <td>-1.293810e+12</td>\n",
       "      <td>0.836825</td>\n",
       "      <td>0.756442</td>\n",
       "      <td>1.000000</td>\n",
       "      <td>0.649371</td>\n",
       "      <td>0.709832</td>\n",
       "      <td>0.716509</td>\n",
       "      <td>0.841958</td>\n",
       "      <td>...</td>\n",
       "      <td>0.688745</td>\n",
       "      <td>0.770777</td>\n",
       "      <td>0.759341</td>\n",
       "      <td>2.00000</td>\n",
       "      <td>2.000000</td>\n",
       "      <td>2.000000</td>\n",
       "      <td>2.000000</td>\n",
       "      <td>2.000000</td>\n",
       "      <td>2.000000</td>\n",
       "      <td>-4.480920e+10</td>\n",
       "    </tr>\n",
       "    <tr>\n",
       "      <th>75%</th>\n",
       "      <td>5000.000000</td>\n",
       "      <td>501.000000</td>\n",
       "      <td>-5.048890e+11</td>\n",
       "      <td>0.887570</td>\n",
       "      <td>0.804991</td>\n",
       "      <td>3.000000</td>\n",
       "      <td>0.693253</td>\n",
       "      <td>0.785117</td>\n",
       "      <td>0.750219</td>\n",
       "      <td>0.872513</td>\n",
       "      <td>...</td>\n",
       "      <td>0.755952</td>\n",
       "      <td>0.855645</td>\n",
       "      <td>0.806139</td>\n",
       "      <td>4.00000</td>\n",
       "      <td>4.000000</td>\n",
       "      <td>4.000000</td>\n",
       "      <td>3.000000</td>\n",
       "      <td>4.000000</td>\n",
       "      <td>5.000000</td>\n",
       "      <td>-4.480920e+10</td>\n",
       "    </tr>\n",
       "    <tr>\n",
       "      <th>max</th>\n",
       "      <td>10001.000000</td>\n",
       "      <td>5001.000000</td>\n",
       "      <td>-2.646000e+09</td>\n",
       "      <td>0.977858</td>\n",
       "      <td>1.000000</td>\n",
       "      <td>18.000000</td>\n",
       "      <td>0.839006</td>\n",
       "      <td>0.903469</td>\n",
       "      <td>0.948151</td>\n",
       "      <td>0.977981</td>\n",
       "      <td>...</td>\n",
       "      <td>0.925705</td>\n",
       "      <td>0.952917</td>\n",
       "      <td>0.933216</td>\n",
       "      <td>15.00000</td>\n",
       "      <td>24.000000</td>\n",
       "      <td>18.000000</td>\n",
       "      <td>15.000000</td>\n",
       "      <td>85.000000</td>\n",
       "      <td>11.000000</td>\n",
       "      <td>-4.480920e+10</td>\n",
       "    </tr>\n",
       "  </tbody>\n",
       "</table>\n",
       "<p>8 rows × 28 columns</p>\n",
       "</div>"
      ],
      "text/plain": [
       "       employeeNumber/max  employeeNumber/min  foundedDate/$date/$numberLong  \\\n",
       "count         6604.000000         6604.000000                   1.021000e+03   \n",
       "mean          2879.560872          536.351302                  -1.599206e+12   \n",
       "std           3979.534266         1227.953979                   1.389107e+12   \n",
       "min             10.000000            0.000000                  -1.123420e+13   \n",
       "25%             50.000000           11.000000                  -2.303560e+12   \n",
       "50%            500.000000           51.000000                  -1.293810e+12   \n",
       "75%           5000.000000          501.000000                  -5.048890e+11   \n",
       "max          10001.000000         5001.000000                  -2.646000e+09   \n",
       "\n",
       "       domain_groups/Fintech/ Payments  domain_groups/Insurtech  \\\n",
       "count                       634.000000               162.000000   \n",
       "mean                          0.817677                 0.754944   \n",
       "std                           0.089529                 0.081077   \n",
       "min                           0.600753                 0.602922   \n",
       "25%                           0.764126                 0.697041   \n",
       "50%                           0.836825                 0.756442   \n",
       "75%                           0.887570                 0.804991   \n",
       "max                           0.977858                 1.000000   \n",
       "\n",
       "       fundingList/0/noOfInvestors  domain_groups/Developer Tools  \\\n",
       "count                  1808.000000                     143.000000   \n",
       "mean                      2.298673                       0.666960   \n",
       "std                       2.163581                       0.056874   \n",
       "min                       1.000000                       0.600037   \n",
       "25%                       1.000000                       0.624372   \n",
       "50%                       1.000000                       0.649371   \n",
       "75%                       3.000000                       0.693253   \n",
       "max                      18.000000                       0.839006   \n",
       "\n",
       "       domain_groups/Hardware  domain_groups/Automotive  \\\n",
       "count              310.000000                137.000000   \n",
       "mean                 0.718989                  0.711899   \n",
       "std                  0.080721                  0.081340   \n",
       "min                  0.601678                  0.601594   \n",
       "25%                  0.642816                  0.645629   \n",
       "50%                  0.709832                  0.716509   \n",
       "75%                  0.785117                  0.750219   \n",
       "max                  0.903469                  0.948151   \n",
       "\n",
       "       domain_groups/Healthcare  ...  domain_groups/Social Networking  \\\n",
       "count                466.000000  ...                        47.000000   \n",
       "mean                   0.811185  ...                         0.698052   \n",
       "std                    0.087860  ...                         0.078503   \n",
       "min                    0.601643  ...                         0.603195   \n",
       "25%                    0.761584  ...                         0.636311   \n",
       "50%                    0.841958  ...                         0.688745   \n",
       "75%                    0.872513  ...                         0.755952   \n",
       "max                    0.977981  ...                         0.925705   \n",
       "\n",
       "       domain_groups/Venture Capital  domain_groups/E-Commerce  \\\n",
       "count                     193.000000                307.000000   \n",
       "mean                        0.770349                  0.755408   \n",
       "std                         0.093617                  0.075075   \n",
       "min                         0.601607                  0.600451   \n",
       "25%                         0.687818                  0.705550   \n",
       "50%                         0.770777                  0.759341   \n",
       "75%                         0.855645                  0.806139   \n",
       "max                         0.952917                  0.933216   \n",
       "\n",
       "       fundingList/4/noOfInvestors  fundingList/5/noOfInvestors  \\\n",
       "count                    420.00000                   296.000000   \n",
       "mean                       2.97381                     3.148649   \n",
       "std                        2.34735                     2.806445   \n",
       "min                        1.00000                     1.000000   \n",
       "25%                        1.00000                     1.000000   \n",
       "50%                        2.00000                     2.000000   \n",
       "75%                        4.00000                     4.000000   \n",
       "max                       15.00000                    24.000000   \n",
       "\n",
       "       fundingList/6/noOfInvestors  fundingList/7/noOfInvestors  \\\n",
       "count                   194.000000                   133.000000   \n",
       "mean                      2.835052                     2.631579   \n",
       "std                       2.659153                     2.333789   \n",
       "min                       1.000000                     1.000000   \n",
       "25%                       1.000000                     1.000000   \n",
       "50%                       2.000000                     2.000000   \n",
       "75%                       4.000000                     3.000000   \n",
       "max                      18.000000                    15.000000   \n",
       "\n",
       "       fundingList/8/noOfInvestors  fundingList/9/noOfInvestors  \\\n",
       "count                    92.000000                    67.000000   \n",
       "mean                      3.673913                     3.313433   \n",
       "std                       8.844330                     2.413403   \n",
       "min                       1.000000                     1.000000   \n",
       "25%                       1.000000                     1.000000   \n",
       "50%                       2.000000                     2.000000   \n",
       "75%                       4.000000                     5.000000   \n",
       "max                      85.000000                    11.000000   \n",
       "\n",
       "       fundingList/0/fundingDate/$date/$numberLong  \n",
       "count                                 1.000000e+00  \n",
       "mean                                 -4.480920e+10  \n",
       "std                                            NaN  \n",
       "min                                  -4.480920e+10  \n",
       "25%                                  -4.480920e+10  \n",
       "50%                                  -4.480920e+10  \n",
       "75%                                  -4.480920e+10  \n",
       "max                                  -4.480920e+10  \n",
       "\n",
       "[8 rows x 28 columns]"
      ]
     },
     "execution_count": 10,
     "metadata": {},
     "output_type": "execute_result"
    }
   ],
   "source": [
    "data.describe()"
   ]
  },
  {
   "cell_type": "code",
   "execution_count": 11,
   "id": "5cc23c90",
   "metadata": {},
   "outputs": [
    {
     "data": {
      "text/plain": [
       "_id/$oid                          0.000000\n",
       "tags/0                            1.554543\n",
       "tags/1                           16.657733\n",
       "companyName                       0.000000\n",
       "domainName                        0.000000\n",
       "                                   ...    \n",
       "tags/19                          99.986599\n",
       "tags/20                          99.986599\n",
       "tags/21                          99.986599\n",
       "tags/22                          99.986599\n",
       "fundingList/8/leadInvestors/2    99.986599\n",
       "Length: 176, dtype: float64"
      ]
     },
     "execution_count": 11,
     "metadata": {},
     "output_type": "execute_result"
    }
   ],
   "source": [
    "#This function calculates the percentage of missing values in each column of the input dataframe.\n",
    "\n",
    "percent_missing_data = data.isnull().sum() * 100 / len(data)\n",
    "percent_missing_data"
   ]
  },
  {
   "cell_type": "code",
   "execution_count": 12,
   "id": "b33f3d37",
   "metadata": {
    "scrolled": true
   },
   "outputs": [
    {
     "data": {
      "text/plain": [
       "domain_groups/Fintech/ Payments    91.503618\n",
       "domain_groups/Insurtech            97.829000\n",
       "domain_groups/Developer Tools      98.083624\n",
       "domain_groups/Hardware             95.845618\n",
       "domain_groups/Automotive           98.164031\n",
       "                                     ...    \n",
       "tags/19                            99.986599\n",
       "tags/20                            99.986599\n",
       "tags/21                            99.986599\n",
       "tags/22                            99.986599\n",
       "fundingList/8/leadInvestors/2      99.986599\n",
       "Length: 144, dtype: float64"
      ]
     },
     "execution_count": 12,
     "metadata": {},
     "output_type": "execute_result"
    }
   ],
   "source": [
    "#We're finding the columns which have more than 90% empty rows\n",
    "percent_missing_data_delete=percent_missing_data[percent_missing_data>90]\n",
    "percent_missing_data_delete"
   ]
  },
  {
   "cell_type": "code",
   "execution_count": 13,
   "id": "bb3e69f5",
   "metadata": {},
   "outputs": [],
   "source": [
    "#So we can see that out of 176 columns, 144 of them have more than 90% empty values and 155 have greater than 80% empty values.\n",
    "#But since these columns are based on the tags, thus we won't be removing them."
   ]
  },
  {
   "cell_type": "code",
   "execution_count": 14,
   "id": "7b68ec3d",
   "metadata": {},
   "outputs": [
    {
     "data": {
      "text/plain": [
       "144"
      ]
     },
     "execution_count": 14,
     "metadata": {},
     "output_type": "execute_result"
    }
   ],
   "source": [
    "len(percent_missing_data_delete)"
   ]
  },
  {
   "cell_type": "code",
   "execution_count": 15,
   "id": "11ef824c",
   "metadata": {},
   "outputs": [],
   "source": [
    "#We're first working on the tags field and filling the empty values with nothing so that we can combine it later on\n",
    "data[\"tags/0\"].fillna(\"\",inplace=True)\n",
    "data[\"tags/1\"].fillna(\"\",inplace=True)\n",
    "data[\"tags/2\"].fillna(\"\",inplace=True)\n",
    "data[\"tags/3\"].fillna(\"\",inplace=True)\n",
    "data[\"tags/4\"].fillna(\"\",inplace=True)\n",
    "data[\"tags/5\"].fillna(\"\",inplace=True)\n",
    "data[\"tags/6\"].fillna(\"\",inplace=True)\n",
    "data[\"tags/7\"].fillna(\"\",inplace=True)"
   ]
  },
  {
   "cell_type": "code",
   "execution_count": 16,
   "id": "6bee138c",
   "metadata": {
    "scrolled": true
   },
   "outputs": [],
   "source": [
    "# Rather than having so many tags columns, I'm going to comine them into one in order to reduce the number of columns and also it would reduce the number of empty values in that comn.\n",
    "data['tags'] = data[['tags/0','tags/1','tags/2','tags/3', 'tags/4','tags/5','tags/6','tags/7']].apply(lambda row: '_'.join([val for val in row if val]),axis=1) "
   ]
  },
  {
   "cell_type": "code",
   "execution_count": 17,
   "id": "b6ff689d",
   "metadata": {},
   "outputs": [],
   "source": [
    "data['tags']=data['tags'].str.replace(r'_', ' ')"
   ]
  },
  {
   "cell_type": "code",
   "execution_count": 18,
   "id": "08acfeac",
   "metadata": {},
   "outputs": [
    {
     "data": {
      "text/plain": [
       "0                                       finance insurance\n",
       "1                                           3d technology\n",
       "2              3d technology augmented reality e-commerce\n",
       "3                      android enterprise software mobile\n",
       "4              automotive electronics enterprise software\n",
       "                              ...                        \n",
       "7457    business development digital marketing ios web...\n",
       "7458    messaging mobile software telecommunications w...\n",
       "7459                                    internet software\n",
       "7460    advertising brand marketing e-commerce marketi...\n",
       "7461                                        search engine\n",
       "Name: tags, Length: 7462, dtype: object"
      ]
     },
     "execution_count": 18,
     "metadata": {},
     "output_type": "execute_result"
    }
   ],
   "source": [
    "#Now we have a single column with all the tags\n",
    "data['tags']"
   ]
  },
  {
   "cell_type": "code",
   "execution_count": 19,
   "id": "513aae4c",
   "metadata": {},
   "outputs": [],
   "source": [
    "data.drop(columns=['tags/0','tags/1','tags/2','tags/3', 'tags/4','tags/5','tags/6','tags/7'],inplace=True)\n",
    "# Now in tags/3-7we have very less empty values as compared to earlier."
   ]
  },
  {
   "cell_type": "code",
   "execution_count": 20,
   "id": "80ba00d9",
   "metadata": {},
   "outputs": [
    {
     "data": {
      "text/plain": [
       "domain_groups/Insurtech          97.829000\n",
       "domain_groups/Developer Tools    98.083624\n",
       "domain_groups/Automotive         98.164031\n",
       "tags/8                           98.097025\n",
       "domain_groups/Agrotech           99.423747\n",
       "                                   ...    \n",
       "tags/19                          99.986599\n",
       "tags/20                          99.986599\n",
       "tags/21                          99.986599\n",
       "tags/22                          99.986599\n",
       "fundingList/8/leadInvestors/2    99.986599\n",
       "Length: 118, dtype: float64"
      ]
     },
     "execution_count": 20,
     "metadata": {},
     "output_type": "execute_result"
    }
   ],
   "source": [
    "percent_missing_data_delete=percent_missing_data[percent_missing_data>97]\n",
    "percent_missing_data_delete"
   ]
  },
  {
   "cell_type": "code",
   "execution_count": 21,
   "id": "2331ef34",
   "metadata": {},
   "outputs": [],
   "source": [
    "# We're going the remove the columns which have more than 97% empty data\n",
    "data.drop(columns=percent_missing_data_delete.index,inplace=True)"
   ]
  },
  {
   "cell_type": "code",
   "execution_count": 22,
   "id": "2e946c9a",
   "metadata": {},
   "outputs": [
    {
     "name": "stdout",
     "output_type": "stream",
     "text": [
      "<class 'pandas.core.frame.DataFrame'>\n",
      "RangeIndex: 7462 entries, 0 to 7461\n",
      "Data columns (total 51 columns):\n",
      " #   Column                           Non-Null Count  Dtype  \n",
      "---  ------                           --------------  -----  \n",
      " 0   _id/$oid                         7462 non-null   object \n",
      " 1   companyName                      7462 non-null   object \n",
      " 2   domainName                       7462 non-null   object \n",
      " 3   crunchbase_url                   7462 non-null   object \n",
      " 4   TYPE                             6097 non-null   object \n",
      " 5   UpdatedOn/$date                  7428 non-null   object \n",
      " 6   companyDesc                      6247 non-null   object \n",
      " 7   companyWebsite                   7336 non-null   object \n",
      " 8   employeeNumber/max               6604 non-null   float64\n",
      " 9   employeeNumber/min               6604 non-null   float64\n",
      " 10  foundedDate/$date/$numberLong    1021 non-null   float64\n",
      " 11  domain_groups/Fintech/ Payments  634 non-null    float64\n",
      " 12  foundedDate                      5582 non-null   object \n",
      " 13  fundingList/0/fundingDate/$date  2139 non-null   object \n",
      " 14  fundingList/0/fundingType        2140 non-null   object \n",
      " 15  fundingList/0/moneyRaised        1561 non-null   object \n",
      " 16  fundingList/0/noOfInvestors      1808 non-null   float64\n",
      " 17  domain_groups/Hardware           310 non-null    float64\n",
      " 18  fundingList/0/leadInvestors/0    1187 non-null   object \n",
      " 19  companyName/1                    1967 non-null   object \n",
      " 20  companyName/2                    621 non-null    object \n",
      " 21  domain_groups/Healthcare         466 non-null    float64\n",
      " 22  fundingList/1/fundingDate/$date  1334 non-null   object \n",
      " 23  fundingList/1/fundingType        1334 non-null   object \n",
      " 24  fundingList/1/noOfInvestors      1159 non-null   float64\n",
      " 25  companyName/3                    270 non-null    object \n",
      " 26  fundingList/1/leadInvestors/0    741 non-null    object \n",
      " 27  fundingList/1/moneyRaised        1051 non-null   object \n",
      " 28  fundingList/2/fundingDate/$date  930 non-null    object \n",
      " 29  fundingList/2/fundingType        930 non-null    object \n",
      " 30  fundingList/2/leadInvestors/0    519 non-null    object \n",
      " 31  fundingList/2/moneyRaised        761 non-null    object \n",
      " 32  fundingList/2/noOfInvestors      802 non-null    float64\n",
      " 33  fundingList/3/fundingDate/$date  689 non-null    object \n",
      " 34  fundingList/3/fundingType        689 non-null    object \n",
      " 35  fundingList/3/noOfInvestors      599 non-null    float64\n",
      " 36  domain_groups/Edtech             275 non-null    float64\n",
      " 37  domain_groups/Martech            416 non-null    float64\n",
      " 38  fundingList/3/moneyRaised        560 non-null    object \n",
      " 39  domain_groups/E-Commerce         307 non-null    float64\n",
      " 40  fundingList/3/leadInvestors/0    379 non-null    object \n",
      " 41  fundingList/4/fundingDate/$date  495 non-null    object \n",
      " 42  fundingList/4/fundingType        495 non-null    object \n",
      " 43  fundingList/4/leadInvestors/0    254 non-null    object \n",
      " 44  fundingList/4/moneyRaised        407 non-null    object \n",
      " 45  fundingList/4/noOfInvestors      420 non-null    float64\n",
      " 46  fundingList/5/fundingDate/$date  342 non-null    object \n",
      " 47  fundingList/5/fundingType        342 non-null    object \n",
      " 48  fundingList/5/moneyRaised        286 non-null    object \n",
      " 49  fundingList/5/noOfInvestors      296 non-null    float64\n",
      " 50  tags                             7462 non-null   object \n",
      "dtypes: float64(15), object(36)\n",
      "memory usage: 2.9+ MB\n"
     ]
    }
   ],
   "source": [
    "data.info()"
   ]
  },
  {
   "cell_type": "code",
   "execution_count": 23,
   "id": "5543e4e1",
   "metadata": {},
   "outputs": [],
   "source": [
    "# Now we have 50 major columns.\n",
    "import regex as r"
   ]
  },
  {
   "cell_type": "code",
   "execution_count": 24,
   "id": "81450c14",
   "metadata": {},
   "outputs": [],
   "source": [
    "# We're going to use rstrip on founded date column because it has extra \"T09:00:00.000Z\" in the end which is not required\n",
    "data['foundedDate'] = data['foundedDate'].str.replace(r'T09:00:00.000Z$', '')\n",
    "data['fundingList/0/fundingDate/$date'] = data['fundingList/0/fundingDate/$date'].str.replace(r'T09:00:00.000Z$', '')\n",
    "data['fundingList/1/fundingDate/$date'] = data['fundingList/1/fundingDate/$date'].str.replace(r'T09:00:00.000Z$', '')\n",
    "data['fundingList/2/fundingDate/$date'] = data['fundingList/2/fundingDate/$date'].str.replace(r'T09:00:00.000Z$', '')\n",
    "data['fundingList/3/fundingDate/$date'] = data['fundingList/3/fundingDate/$date'].str.replace(r'T09:00:00.000Z$', '')\n",
    "data['fundingList/4/fundingDate/$date'] = data['fundingList/4/fundingDate/$date'].str.replace(r'T09:00:00.000Z$', '')\n",
    "data['fundingList/5/fundingDate/$date'] = data['fundingList/5/fundingDate/$date'].str.replace(r'T09:00:00.000Z$', '')"
   ]
  },
  {
   "cell_type": "code",
   "execution_count": 25,
   "id": "4889793e",
   "metadata": {},
   "outputs": [],
   "source": [
    "# In a similar manner we're going to remove the timestamp part of Updated on columns because it is not required\n",
    "data['UpdatedOn/$date'] = data['UpdatedOn/$date'].str.replace(r'T.*Z$', '')"
   ]
  },
  {
   "cell_type": "code",
   "execution_count": 26,
   "id": "90cc1c3c",
   "metadata": {},
   "outputs": [
    {
     "data": {
      "text/plain": [
       "0       2020-01-18\n",
       "1       2020-01-20\n",
       "2       2020-01-16\n",
       "3       2020-01-21\n",
       "4       2020-01-17\n",
       "           ...    \n",
       "7457    2020-02-17\n",
       "7458    2020-02-17\n",
       "7459    2020-02-17\n",
       "7460    2020-02-17\n",
       "7461    2020-02-17\n",
       "Name: UpdatedOn/$date, Length: 7462, dtype: object"
      ]
     },
     "execution_count": 26,
     "metadata": {},
     "output_type": "execute_result"
    }
   ],
   "source": [
    "data['UpdatedOn/$date']"
   ]
  },
  {
   "cell_type": "code",
   "execution_count": 27,
   "id": "333503c8",
   "metadata": {},
   "outputs": [
    {
     "data": {
      "text/plain": [
       "5323"
      ]
     },
     "execution_count": 27,
     "metadata": {},
     "output_type": "execute_result"
    }
   ],
   "source": [
    "data['fundingList/0/fundingDate/$date'].isnull().sum()"
   ]
  },
  {
   "cell_type": "code",
   "execution_count": 28,
   "id": "d9050100",
   "metadata": {
    "scrolled": true
   },
   "outputs": [
    {
     "name": "stdout",
     "output_type": "stream",
     "text": [
      "<class 'pandas.core.frame.DataFrame'>\n",
      "RangeIndex: 7462 entries, 0 to 7461\n",
      "Data columns (total 51 columns):\n",
      " #   Column                           Non-Null Count  Dtype  \n",
      "---  ------                           --------------  -----  \n",
      " 0   _id/$oid                         7462 non-null   object \n",
      " 1   companyName                      7462 non-null   object \n",
      " 2   domainName                       7462 non-null   object \n",
      " 3   crunchbase_url                   7462 non-null   object \n",
      " 4   TYPE                             6097 non-null   object \n",
      " 5   UpdatedOn/$date                  7428 non-null   object \n",
      " 6   companyDesc                      6247 non-null   object \n",
      " 7   companyWebsite                   7336 non-null   object \n",
      " 8   employeeNumber/max               6604 non-null   float64\n",
      " 9   employeeNumber/min               6604 non-null   float64\n",
      " 10  foundedDate/$date/$numberLong    1021 non-null   float64\n",
      " 11  domain_groups/Fintech/ Payments  634 non-null    float64\n",
      " 12  foundedDate                      5582 non-null   object \n",
      " 13  fundingList/0/fundingDate/$date  2139 non-null   object \n",
      " 14  fundingList/0/fundingType        2140 non-null   object \n",
      " 15  fundingList/0/moneyRaised        1561 non-null   object \n",
      " 16  fundingList/0/noOfInvestors      1808 non-null   float64\n",
      " 17  domain_groups/Hardware           310 non-null    float64\n",
      " 18  fundingList/0/leadInvestors/0    1187 non-null   object \n",
      " 19  companyName/1                    1967 non-null   object \n",
      " 20  companyName/2                    621 non-null    object \n",
      " 21  domain_groups/Healthcare         466 non-null    float64\n",
      " 22  fundingList/1/fundingDate/$date  1334 non-null   object \n",
      " 23  fundingList/1/fundingType        1334 non-null   object \n",
      " 24  fundingList/1/noOfInvestors      1159 non-null   float64\n",
      " 25  companyName/3                    270 non-null    object \n",
      " 26  fundingList/1/leadInvestors/0    741 non-null    object \n",
      " 27  fundingList/1/moneyRaised        1051 non-null   object \n",
      " 28  fundingList/2/fundingDate/$date  930 non-null    object \n",
      " 29  fundingList/2/fundingType        930 non-null    object \n",
      " 30  fundingList/2/leadInvestors/0    519 non-null    object \n",
      " 31  fundingList/2/moneyRaised        761 non-null    object \n",
      " 32  fundingList/2/noOfInvestors      802 non-null    float64\n",
      " 33  fundingList/3/fundingDate/$date  689 non-null    object \n",
      " 34  fundingList/3/fundingType        689 non-null    object \n",
      " 35  fundingList/3/noOfInvestors      599 non-null    float64\n",
      " 36  domain_groups/Edtech             275 non-null    float64\n",
      " 37  domain_groups/Martech            416 non-null    float64\n",
      " 38  fundingList/3/moneyRaised        560 non-null    object \n",
      " 39  domain_groups/E-Commerce         307 non-null    float64\n",
      " 40  fundingList/3/leadInvestors/0    379 non-null    object \n",
      " 41  fundingList/4/fundingDate/$date  495 non-null    object \n",
      " 42  fundingList/4/fundingType        495 non-null    object \n",
      " 43  fundingList/4/leadInvestors/0    254 non-null    object \n",
      " 44  fundingList/4/moneyRaised        407 non-null    object \n",
      " 45  fundingList/4/noOfInvestors      420 non-null    float64\n",
      " 46  fundingList/5/fundingDate/$date  342 non-null    object \n",
      " 47  fundingList/5/fundingType        342 non-null    object \n",
      " 48  fundingList/5/moneyRaised        286 non-null    object \n",
      " 49  fundingList/5/noOfInvestors      296 non-null    float64\n",
      " 50  tags                             7462 non-null   object \n",
      "dtypes: float64(15), object(36)\n",
      "memory usage: 2.9+ MB\n"
     ]
    }
   ],
   "source": [
    "data.info()"
   ]
  },
  {
   "cell_type": "code",
   "execution_count": 29,
   "id": "c7489471",
   "metadata": {},
   "outputs": [],
   "source": [
    "#We're going to rename the columns to make it easier to access them\n",
    "data = data.rename(columns={'domain_groups/Fintech/ Payments': 'fintech_payment', 'domain_groups/Hardware': 'hardware','domain_groups/Healthcare':'healthcare','domain_groups/Edtech':'edtech','domain_groups/Martech':'martech','domain_groups/E-Commerce':'ecommerce'})"
   ]
  },
  {
   "cell_type": "code",
   "execution_count": 30,
   "id": "111879e9",
   "metadata": {
    "scrolled": false
   },
   "outputs": [
    {
     "data": {
      "text/html": [
       "<div>\n",
       "<style scoped>\n",
       "    .dataframe tbody tr th:only-of-type {\n",
       "        vertical-align: middle;\n",
       "    }\n",
       "\n",
       "    .dataframe tbody tr th {\n",
       "        vertical-align: top;\n",
       "    }\n",
       "\n",
       "    .dataframe thead th {\n",
       "        text-align: right;\n",
       "    }\n",
       "</style>\n",
       "<table border=\"1\" class=\"dataframe\">\n",
       "  <thead>\n",
       "    <tr style=\"text-align: right;\">\n",
       "      <th></th>\n",
       "      <th>companyName</th>\n",
       "      <th>companyName/1</th>\n",
       "      <th>companyName/2</th>\n",
       "    </tr>\n",
       "  </thead>\n",
       "  <tbody>\n",
       "    <tr>\n",
       "      <th>70</th>\n",
       "      <td>appus</td>\n",
       "      <td>NaN</td>\n",
       "      <td>NaN</td>\n",
       "    </tr>\n",
       "    <tr>\n",
       "      <th>71</th>\n",
       "      <td>100grams</td>\n",
       "      <td>NaN</td>\n",
       "      <td>NaN</td>\n",
       "    </tr>\n",
       "    <tr>\n",
       "      <th>72</th>\n",
       "      <td>360 partners</td>\n",
       "      <td>NaN</td>\n",
       "      <td>NaN</td>\n",
       "    </tr>\n",
       "    <tr>\n",
       "      <th>73</th>\n",
       "      <td>8kpc inc</td>\n",
       "      <td>NaN</td>\n",
       "      <td>NaN</td>\n",
       "    </tr>\n",
       "    <tr>\n",
       "      <th>74</th>\n",
       "      <td>9start</td>\n",
       "      <td>NaN</td>\n",
       "      <td>NaN</td>\n",
       "    </tr>\n",
       "    <tr>\n",
       "      <th>75</th>\n",
       "      <td>abbvie</td>\n",
       "      <td>NaN</td>\n",
       "      <td>NaN</td>\n",
       "    </tr>\n",
       "    <tr>\n",
       "      <th>76</th>\n",
       "      <td>absolutdata research analytics solutions</td>\n",
       "      <td>absolutdata research analytics</td>\n",
       "      <td>absolutdata analytics</td>\n",
       "    </tr>\n",
       "    <tr>\n",
       "      <th>77</th>\n",
       "      <td>active intelligence pte</td>\n",
       "      <td>activeai</td>\n",
       "      <td>NaN</td>\n",
       "    </tr>\n",
       "    <tr>\n",
       "      <th>78</th>\n",
       "      <td>actuant corporation</td>\n",
       "      <td>NaN</td>\n",
       "      <td>NaN</td>\n",
       "    </tr>\n",
       "    <tr>\n",
       "      <th>79</th>\n",
       "      <td>aditya brila groupgrasim industries</td>\n",
       "      <td>grasim</td>\n",
       "      <td>grasim industries</td>\n",
       "    </tr>\n",
       "    <tr>\n",
       "      <th>80</th>\n",
       "      <td>agilisium consulting</td>\n",
       "      <td>NaN</td>\n",
       "      <td>NaN</td>\n",
       "    </tr>\n",
       "    <tr>\n",
       "      <th>81</th>\n",
       "      <td>agilysys</td>\n",
       "      <td>NaN</td>\n",
       "      <td>NaN</td>\n",
       "    </tr>\n",
       "    <tr>\n",
       "      <th>82</th>\n",
       "      <td>aiqudo</td>\n",
       "      <td>NaN</td>\n",
       "      <td>NaN</td>\n",
       "    </tr>\n",
       "    <tr>\n",
       "      <th>83</th>\n",
       "      <td>aksh optifibre</td>\n",
       "      <td>NaN</td>\n",
       "      <td>NaN</td>\n",
       "    </tr>\n",
       "    <tr>\n",
       "      <th>84</th>\n",
       "      <td>alcon laboratories inc</td>\n",
       "      <td>alcon a novartis company</td>\n",
       "      <td>alcon labs a novartis company</td>\n",
       "    </tr>\n",
       "    <tr>\n",
       "      <th>85</th>\n",
       "      <td>alibaba cloud</td>\n",
       "      <td>NaN</td>\n",
       "      <td>NaN</td>\n",
       "    </tr>\n",
       "    <tr>\n",
       "      <th>86</th>\n",
       "      <td>alpha data</td>\n",
       "      <td>NaN</td>\n",
       "      <td>NaN</td>\n",
       "    </tr>\n",
       "    <tr>\n",
       "      <th>87</th>\n",
       "      <td>amity institute of space science and technology</td>\n",
       "      <td>NaN</td>\n",
       "      <td>NaN</td>\n",
       "    </tr>\n",
       "    <tr>\n",
       "      <th>88</th>\n",
       "      <td>amtex systems</td>\n",
       "      <td>NaN</td>\n",
       "      <td>NaN</td>\n",
       "    </tr>\n",
       "    <tr>\n",
       "      <th>89</th>\n",
       "      <td>ana</td>\n",
       "      <td>NaN</td>\n",
       "      <td>NaN</td>\n",
       "    </tr>\n",
       "    <tr>\n",
       "      <th>90</th>\n",
       "      <td>anglo american</td>\n",
       "      <td>NaN</td>\n",
       "      <td>NaN</td>\n",
       "    </tr>\n",
       "    <tr>\n",
       "      <th>91</th>\n",
       "      <td>anton paar</td>\n",
       "      <td>NaN</td>\n",
       "      <td>NaN</td>\n",
       "    </tr>\n",
       "    <tr>\n",
       "      <th>92</th>\n",
       "      <td>aol uk</td>\n",
       "      <td>aol member services india</td>\n",
       "      <td>aol india</td>\n",
       "    </tr>\n",
       "    <tr>\n",
       "      <th>93</th>\n",
       "      <td>appetizer mobile llc</td>\n",
       "      <td>NaN</td>\n",
       "      <td>NaN</td>\n",
       "    </tr>\n",
       "    <tr>\n",
       "      <th>94</th>\n",
       "      <td>applift</td>\n",
       "      <td>NaN</td>\n",
       "      <td>NaN</td>\n",
       "    </tr>\n",
       "    <tr>\n",
       "      <th>95</th>\n",
       "      <td>aramark refreshment services</td>\n",
       "      <td>NaN</td>\n",
       "      <td>NaN</td>\n",
       "    </tr>\n",
       "    <tr>\n",
       "      <th>96</th>\n",
       "      <td>arbor networks</td>\n",
       "      <td>NaN</td>\n",
       "      <td>NaN</td>\n",
       "    </tr>\n",
       "    <tr>\n",
       "      <th>97</th>\n",
       "      <td>360medlink inc</td>\n",
       "      <td>NaN</td>\n",
       "      <td>NaN</td>\n",
       "    </tr>\n",
       "    <tr>\n",
       "      <th>98</th>\n",
       "      <td>skf group</td>\n",
       "      <td>lincoln helios i skf group</td>\n",
       "      <td>skf india</td>\n",
       "    </tr>\n",
       "    <tr>\n",
       "      <th>99</th>\n",
       "      <td>accel</td>\n",
       "      <td>accel partners</td>\n",
       "      <td>NaN</td>\n",
       "    </tr>\n",
       "    <tr>\n",
       "      <th>100</th>\n",
       "      <td>acnovate corporation</td>\n",
       "      <td>NaN</td>\n",
       "      <td>NaN</td>\n",
       "    </tr>\n",
       "  </tbody>\n",
       "</table>\n",
       "</div>"
      ],
      "text/plain": [
       "                                         companyName  \\\n",
       "70                                             appus   \n",
       "71                                          100grams   \n",
       "72                                      360 partners   \n",
       "73                                          8kpc inc   \n",
       "74                                            9start   \n",
       "75                                            abbvie   \n",
       "76          absolutdata research analytics solutions   \n",
       "77                           active intelligence pte   \n",
       "78                               actuant corporation   \n",
       "79               aditya brila groupgrasim industries   \n",
       "80                              agilisium consulting   \n",
       "81                                          agilysys   \n",
       "82                                            aiqudo   \n",
       "83                                    aksh optifibre   \n",
       "84                            alcon laboratories inc   \n",
       "85                                     alibaba cloud   \n",
       "86                                        alpha data   \n",
       "87   amity institute of space science and technology   \n",
       "88                                     amtex systems   \n",
       "89                                               ana   \n",
       "90                                    anglo american   \n",
       "91                                        anton paar   \n",
       "92                                            aol uk   \n",
       "93                              appetizer mobile llc   \n",
       "94                                           applift   \n",
       "95                      aramark refreshment services   \n",
       "96                                    arbor networks   \n",
       "97                                    360medlink inc   \n",
       "98                                         skf group   \n",
       "99                                             accel   \n",
       "100                             acnovate corporation   \n",
       "\n",
       "                      companyName/1                  companyName/2  \n",
       "70                              NaN                            NaN  \n",
       "71                              NaN                            NaN  \n",
       "72                              NaN                            NaN  \n",
       "73                              NaN                            NaN  \n",
       "74                              NaN                            NaN  \n",
       "75                              NaN                            NaN  \n",
       "76   absolutdata research analytics          absolutdata analytics  \n",
       "77                         activeai                            NaN  \n",
       "78                              NaN                            NaN  \n",
       "79                           grasim              grasim industries  \n",
       "80                              NaN                            NaN  \n",
       "81                              NaN                            NaN  \n",
       "82                              NaN                            NaN  \n",
       "83                              NaN                            NaN  \n",
       "84         alcon a novartis company  alcon labs a novartis company  \n",
       "85                              NaN                            NaN  \n",
       "86                              NaN                            NaN  \n",
       "87                              NaN                            NaN  \n",
       "88                              NaN                            NaN  \n",
       "89                              NaN                            NaN  \n",
       "90                              NaN                            NaN  \n",
       "91                              NaN                            NaN  \n",
       "92        aol member services india                      aol india  \n",
       "93                              NaN                            NaN  \n",
       "94                              NaN                            NaN  \n",
       "95                              NaN                            NaN  \n",
       "96                              NaN                            NaN  \n",
       "97                              NaN                            NaN  \n",
       "98       lincoln helios i skf group                      skf india  \n",
       "99                   accel partners                            NaN  \n",
       "100                             NaN                            NaN  "
      ]
     },
     "execution_count": 30,
     "metadata": {},
     "output_type": "execute_result"
    }
   ],
   "source": [
    "# I'm not going to remove the second two company name columns because I'll use it to later on find the relevant names relevant to the insights.\n",
    "data.loc[70:100,['companyName','companyName/1','companyName/2']]"
   ]
  },
  {
   "cell_type": "code",
   "execution_count": 31,
   "id": "2c900bd1",
   "metadata": {},
   "outputs": [
    {
     "name": "stdout",
     "output_type": "stream",
     "text": [
      "<class 'pandas.core.frame.DataFrame'>\n",
      "RangeIndex: 7462 entries, 0 to 7461\n",
      "Data columns (total 51 columns):\n",
      " #   Column                           Non-Null Count  Dtype  \n",
      "---  ------                           --------------  -----  \n",
      " 0   _id/$oid                         7462 non-null   object \n",
      " 1   companyName                      7462 non-null   object \n",
      " 2   domainName                       7462 non-null   object \n",
      " 3   crunchbase_url                   7462 non-null   object \n",
      " 4   TYPE                             6097 non-null   object \n",
      " 5   UpdatedOn/$date                  7428 non-null   object \n",
      " 6   companyDesc                      6247 non-null   object \n",
      " 7   companyWebsite                   7336 non-null   object \n",
      " 8   employeeNumber/max               6604 non-null   float64\n",
      " 9   employeeNumber/min               6604 non-null   float64\n",
      " 10  foundedDate/$date/$numberLong    1021 non-null   float64\n",
      " 11  fintech_payment                  634 non-null    float64\n",
      " 12  foundedDate                      5582 non-null   object \n",
      " 13  fundingList/0/fundingDate/$date  2139 non-null   object \n",
      " 14  fundingList/0/fundingType        2140 non-null   object \n",
      " 15  fundingList/0/moneyRaised        1561 non-null   object \n",
      " 16  fundingList/0/noOfInvestors      1808 non-null   float64\n",
      " 17  hardware                         310 non-null    float64\n",
      " 18  fundingList/0/leadInvestors/0    1187 non-null   object \n",
      " 19  companyName/1                    1967 non-null   object \n",
      " 20  companyName/2                    621 non-null    object \n",
      " 21  healthcare                       466 non-null    float64\n",
      " 22  fundingList/1/fundingDate/$date  1334 non-null   object \n",
      " 23  fundingList/1/fundingType        1334 non-null   object \n",
      " 24  fundingList/1/noOfInvestors      1159 non-null   float64\n",
      " 25  companyName/3                    270 non-null    object \n",
      " 26  fundingList/1/leadInvestors/0    741 non-null    object \n",
      " 27  fundingList/1/moneyRaised        1051 non-null   object \n",
      " 28  fundingList/2/fundingDate/$date  930 non-null    object \n",
      " 29  fundingList/2/fundingType        930 non-null    object \n",
      " 30  fundingList/2/leadInvestors/0    519 non-null    object \n",
      " 31  fundingList/2/moneyRaised        761 non-null    object \n",
      " 32  fundingList/2/noOfInvestors      802 non-null    float64\n",
      " 33  fundingList/3/fundingDate/$date  689 non-null    object \n",
      " 34  fundingList/3/fundingType        689 non-null    object \n",
      " 35  fundingList/3/noOfInvestors      599 non-null    float64\n",
      " 36  edtech                           275 non-null    float64\n",
      " 37  martech                          416 non-null    float64\n",
      " 38  fundingList/3/moneyRaised        560 non-null    object \n",
      " 39  ecommerce                        307 non-null    float64\n",
      " 40  fundingList/3/leadInvestors/0    379 non-null    object \n",
      " 41  fundingList/4/fundingDate/$date  495 non-null    object \n",
      " 42  fundingList/4/fundingType        495 non-null    object \n",
      " 43  fundingList/4/leadInvestors/0    254 non-null    object \n",
      " 44  fundingList/4/moneyRaised        407 non-null    object \n",
      " 45  fundingList/4/noOfInvestors      420 non-null    float64\n",
      " 46  fundingList/5/fundingDate/$date  342 non-null    object \n",
      " 47  fundingList/5/fundingType        342 non-null    object \n",
      " 48  fundingList/5/moneyRaised        286 non-null    object \n",
      " 49  fundingList/5/noOfInvestors      296 non-null    float64\n",
      " 50  tags                             7462 non-null   object \n",
      "dtypes: float64(15), object(36)\n",
      "memory usage: 2.9+ MB\n"
     ]
    }
   ],
   "source": [
    "data.info()"
   ]
  },
  {
   "cell_type": "code",
   "execution_count": 32,
   "id": "c97cc244",
   "metadata": {},
   "outputs": [],
   "source": [
    "#We'll form a new column named as domain_groups and we'll get the values that it stores later on based on the needs.\n",
    "selected_cols = ['fintech_payment','hardware','healthcare','edtech','martech','ecommerce']\n",
    "df_selected = data[selected_cols]\n",
    "\n",
    "# define lambda function to get non-null column names as a space-separated string\n",
    "get_non_null_cols = lambda row: ' '.join([col for col in df_selected.columns if not pd.isna(row[col])])\n",
    "\n",
    "# apply the lambda function to each row using apply() method\n",
    "df_selected['domain_groups'] = df_selected.apply(get_non_null_cols, axis=1)\n",
    "\n",
    "data['domain_groups']=df_selected['domain_groups']"
   ]
  },
  {
   "cell_type": "code",
   "execution_count": 33,
   "id": "b4e94d65",
   "metadata": {},
   "outputs": [
    {
     "name": "stdout",
     "output_type": "stream",
     "text": [
      "<class 'pandas.core.frame.DataFrame'>\n",
      "RangeIndex: 7462 entries, 0 to 7461\n",
      "Data columns (total 52 columns):\n",
      " #   Column                           Non-Null Count  Dtype  \n",
      "---  ------                           --------------  -----  \n",
      " 0   _id/$oid                         7462 non-null   object \n",
      " 1   companyName                      7462 non-null   object \n",
      " 2   domainName                       7462 non-null   object \n",
      " 3   crunchbase_url                   7462 non-null   object \n",
      " 4   TYPE                             6097 non-null   object \n",
      " 5   UpdatedOn/$date                  7428 non-null   object \n",
      " 6   companyDesc                      6247 non-null   object \n",
      " 7   companyWebsite                   7336 non-null   object \n",
      " 8   employeeNumber/max               6604 non-null   float64\n",
      " 9   employeeNumber/min               6604 non-null   float64\n",
      " 10  foundedDate/$date/$numberLong    1021 non-null   float64\n",
      " 11  fintech_payment                  634 non-null    float64\n",
      " 12  foundedDate                      5582 non-null   object \n",
      " 13  fundingList/0/fundingDate/$date  2139 non-null   object \n",
      " 14  fundingList/0/fundingType        2140 non-null   object \n",
      " 15  fundingList/0/moneyRaised        1561 non-null   object \n",
      " 16  fundingList/0/noOfInvestors      1808 non-null   float64\n",
      " 17  hardware                         310 non-null    float64\n",
      " 18  fundingList/0/leadInvestors/0    1187 non-null   object \n",
      " 19  companyName/1                    1967 non-null   object \n",
      " 20  companyName/2                    621 non-null    object \n",
      " 21  healthcare                       466 non-null    float64\n",
      " 22  fundingList/1/fundingDate/$date  1334 non-null   object \n",
      " 23  fundingList/1/fundingType        1334 non-null   object \n",
      " 24  fundingList/1/noOfInvestors      1159 non-null   float64\n",
      " 25  companyName/3                    270 non-null    object \n",
      " 26  fundingList/1/leadInvestors/0    741 non-null    object \n",
      " 27  fundingList/1/moneyRaised        1051 non-null   object \n",
      " 28  fundingList/2/fundingDate/$date  930 non-null    object \n",
      " 29  fundingList/2/fundingType        930 non-null    object \n",
      " 30  fundingList/2/leadInvestors/0    519 non-null    object \n",
      " 31  fundingList/2/moneyRaised        761 non-null    object \n",
      " 32  fundingList/2/noOfInvestors      802 non-null    float64\n",
      " 33  fundingList/3/fundingDate/$date  689 non-null    object \n",
      " 34  fundingList/3/fundingType        689 non-null    object \n",
      " 35  fundingList/3/noOfInvestors      599 non-null    float64\n",
      " 36  edtech                           275 non-null    float64\n",
      " 37  martech                          416 non-null    float64\n",
      " 38  fundingList/3/moneyRaised        560 non-null    object \n",
      " 39  ecommerce                        307 non-null    float64\n",
      " 40  fundingList/3/leadInvestors/0    379 non-null    object \n",
      " 41  fundingList/4/fundingDate/$date  495 non-null    object \n",
      " 42  fundingList/4/fundingType        495 non-null    object \n",
      " 43  fundingList/4/leadInvestors/0    254 non-null    object \n",
      " 44  fundingList/4/moneyRaised        407 non-null    object \n",
      " 45  fundingList/4/noOfInvestors      420 non-null    float64\n",
      " 46  fundingList/5/fundingDate/$date  342 non-null    object \n",
      " 47  fundingList/5/fundingType        342 non-null    object \n",
      " 48  fundingList/5/moneyRaised        286 non-null    object \n",
      " 49  fundingList/5/noOfInvestors      296 non-null    float64\n",
      " 50  tags                             7462 non-null   object \n",
      " 51  domain_groups                    7462 non-null   object \n",
      "dtypes: float64(15), object(37)\n",
      "memory usage: 3.0+ MB\n"
     ]
    }
   ],
   "source": [
    "data.info()"
   ]
  },
  {
   "cell_type": "code",
   "execution_count": 34,
   "id": "9ef00637",
   "metadata": {},
   "outputs": [],
   "source": [
    "#Now we're going to work on total money raised by a company field\n",
    "data['funding_list_money_raised'] = data['fundingList/0/moneyRaised'].fillna(data['fundingList/1/moneyRaised']).fillna(data['fundingList/2/moneyRaised']).fillna(data['fundingList/3/moneyRaised']).fillna(data['fundingList/4/moneyRaised']).fillna(data[\"fundingList/5/moneyRaised\"])"
   ]
  },
  {
   "cell_type": "code",
   "execution_count": 35,
   "id": "fcfd609a",
   "metadata": {},
   "outputs": [],
   "source": [
    "#Filling the minimum value so that it gets easier to compare them and exclude the None type argument\n",
    "data['funding_list_money_raised']=data['funding_list_money_raised'].fillna('₹1.1K')"
   ]
  },
  {
   "cell_type": "code",
   "execution_count": 36,
   "id": "8d420647",
   "metadata": {},
   "outputs": [],
   "source": [
    "data.drop([\"fundingList/0/moneyRaised\",\"fundingList/1/moneyRaised\",\"fundingList/2/moneyRaised\",\"fundingList/3/moneyRaised\",\"fundingList/4/moneyRaised\",\"fundingList/5/moneyRaised\"],axis=1,inplace=True)"
   ]
  },
  {
   "cell_type": "code",
   "execution_count": 37,
   "id": "12e2f7d5",
   "metadata": {},
   "outputs": [
    {
     "name": "stdout",
     "output_type": "stream",
     "text": [
      "<class 'pandas.core.frame.DataFrame'>\n",
      "RangeIndex: 7462 entries, 0 to 7461\n",
      "Data columns (total 47 columns):\n",
      " #   Column                           Non-Null Count  Dtype  \n",
      "---  ------                           --------------  -----  \n",
      " 0   _id/$oid                         7462 non-null   object \n",
      " 1   companyName                      7462 non-null   object \n",
      " 2   domainName                       7462 non-null   object \n",
      " 3   crunchbase_url                   7462 non-null   object \n",
      " 4   TYPE                             6097 non-null   object \n",
      " 5   UpdatedOn/$date                  7428 non-null   object \n",
      " 6   companyDesc                      6247 non-null   object \n",
      " 7   companyWebsite                   7336 non-null   object \n",
      " 8   employeeNumber/max               6604 non-null   float64\n",
      " 9   employeeNumber/min               6604 non-null   float64\n",
      " 10  foundedDate/$date/$numberLong    1021 non-null   float64\n",
      " 11  fintech_payment                  634 non-null    float64\n",
      " 12  foundedDate                      5582 non-null   object \n",
      " 13  fundingList/0/fundingDate/$date  2139 non-null   object \n",
      " 14  fundingList/0/fundingType        2140 non-null   object \n",
      " 15  fundingList/0/noOfInvestors      1808 non-null   float64\n",
      " 16  hardware                         310 non-null    float64\n",
      " 17  fundingList/0/leadInvestors/0    1187 non-null   object \n",
      " 18  companyName/1                    1967 non-null   object \n",
      " 19  companyName/2                    621 non-null    object \n",
      " 20  healthcare                       466 non-null    float64\n",
      " 21  fundingList/1/fundingDate/$date  1334 non-null   object \n",
      " 22  fundingList/1/fundingType        1334 non-null   object \n",
      " 23  fundingList/1/noOfInvestors      1159 non-null   float64\n",
      " 24  companyName/3                    270 non-null    object \n",
      " 25  fundingList/1/leadInvestors/0    741 non-null    object \n",
      " 26  fundingList/2/fundingDate/$date  930 non-null    object \n",
      " 27  fundingList/2/fundingType        930 non-null    object \n",
      " 28  fundingList/2/leadInvestors/0    519 non-null    object \n",
      " 29  fundingList/2/noOfInvestors      802 non-null    float64\n",
      " 30  fundingList/3/fundingDate/$date  689 non-null    object \n",
      " 31  fundingList/3/fundingType        689 non-null    object \n",
      " 32  fundingList/3/noOfInvestors      599 non-null    float64\n",
      " 33  edtech                           275 non-null    float64\n",
      " 34  martech                          416 non-null    float64\n",
      " 35  ecommerce                        307 non-null    float64\n",
      " 36  fundingList/3/leadInvestors/0    379 non-null    object \n",
      " 37  fundingList/4/fundingDate/$date  495 non-null    object \n",
      " 38  fundingList/4/fundingType        495 non-null    object \n",
      " 39  fundingList/4/leadInvestors/0    254 non-null    object \n",
      " 40  fundingList/4/noOfInvestors      420 non-null    float64\n",
      " 41  fundingList/5/fundingDate/$date  342 non-null    object \n",
      " 42  fundingList/5/fundingType        342 non-null    object \n",
      " 43  fundingList/5/noOfInvestors      296 non-null    float64\n",
      " 44  tags                             7462 non-null   object \n",
      " 45  domain_groups                    7462 non-null   object \n",
      " 46  funding_list_money_raised        7462 non-null   object \n",
      "dtypes: float64(15), object(32)\n",
      "memory usage: 2.7+ MB\n"
     ]
    }
   ],
   "source": [
    "data.info()"
   ]
  },
  {
   "cell_type": "code",
   "execution_count": 38,
   "id": "7f06282c",
   "metadata": {},
   "outputs": [],
   "source": [
    "#Getting the type of funding that each company gets\n",
    "data['funding_list_funding_type'] = data['fundingList/0/fundingType'].fillna(data['fundingList/1/fundingType']).fillna(data['fundingList/2/fundingType']).fillna(data['fundingList/3/fundingType']).fillna(data['fundingList/4/fundingType']).fillna(data[\"fundingList/5/fundingType\"])"
   ]
  },
  {
   "cell_type": "code",
   "execution_count": 39,
   "id": "10eb8573",
   "metadata": {},
   "outputs": [],
   "source": [
    "#As you can see I'm reducing the number of columns first and forming one column which depicts every other column\n",
    "data.drop([\"fundingList/0/fundingType\",'fundingList/1/fundingType','fundingList/2/fundingType','fundingList/3/fundingType','fundingList/4/fundingType','fundingList/5/fundingType'],axis=1,inplace=True)"
   ]
  },
  {
   "cell_type": "code",
   "execution_count": 40,
   "id": "e23849ab",
   "metadata": {
    "scrolled": true
   },
   "outputs": [
    {
     "data": {
      "text/plain": [
       "0                    \n",
       "1                    \n",
       "2       funding round\n",
       "3          seed round\n",
       "4                    \n",
       "            ...      \n",
       "7457                 \n",
       "7458                 \n",
       "7459                 \n",
       "7460                 \n",
       "7461                 \n",
       "Name: funding_list_funding_type, Length: 7462, dtype: object"
      ]
     },
     "execution_count": 40,
     "metadata": {},
     "output_type": "execute_result"
    }
   ],
   "source": [
    "data.funding_list_funding_type.fillna('')"
   ]
  },
  {
   "cell_type": "code",
   "execution_count": 41,
   "id": "36c211a9",
   "metadata": {},
   "outputs": [],
   "source": [
    "data['funding_list_leading_investors'] = data['fundingList/0/leadInvestors/0'].fillna(data['fundingList/1/leadInvestors/0']).fillna(data['fundingList/2/leadInvestors/0']).fillna(data['fundingList/3/leadInvestors/0']).fillna(data['fundingList/4/leadInvestors/0'])"
   ]
  },
  {
   "cell_type": "code",
   "execution_count": 42,
   "id": "5b6f6ba2",
   "metadata": {},
   "outputs": [],
   "source": [
    "data.drop([\"fundingList/0/leadInvestors/0\",'fundingList/1/leadInvestors/0','fundingList/2/leadInvestors/0','fundingList/3/leadInvestors/0','fundingList/4/leadInvestors/0'],axis=1,inplace=True)"
   ]
  },
  {
   "cell_type": "code",
   "execution_count": 43,
   "id": "c54994dc",
   "metadata": {},
   "outputs": [
    {
     "data": {
      "text/plain": [
       "0       Not Found\n",
       "1       Not Found\n",
       "2       Not Found\n",
       "3       Not Found\n",
       "4       Not Found\n",
       "          ...    \n",
       "7457    Not Found\n",
       "7458    Not Found\n",
       "7459    Not Found\n",
       "7460    Not Found\n",
       "7461    Not Found\n",
       "Name: funding_list_leading_investors, Length: 7462, dtype: object"
      ]
     },
     "execution_count": 43,
     "metadata": {},
     "output_type": "execute_result"
    }
   ],
   "source": [
    "#Though this column has many empty values, yet i perceive this column as useful for further use\n",
    "data.funding_list_leading_investors.fillna(\"Not Found\")"
   ]
  },
  {
   "cell_type": "code",
   "execution_count": 44,
   "id": "36621753",
   "metadata": {},
   "outputs": [],
   "source": [
    "data['funding_list_no_of_investors'] = data['fundingList/0/noOfInvestors']+data['fundingList/1/noOfInvestors']+data['fundingList/2/noOfInvestors']+data['fundingList/3/noOfInvestors']+data['fundingList/4/noOfInvestors']+data['fundingList/5/noOfInvestors']"
   ]
  },
  {
   "cell_type": "code",
   "execution_count": 45,
   "id": "ae754d0e",
   "metadata": {},
   "outputs": [],
   "source": [
    "data['funding_list_no_of_investors']=data['funding_list_no_of_investors'].fillna(0)\n",
    "data['funding_list_no_of_investors']=data['funding_list_no_of_investors'].astype('int64')"
   ]
  },
  {
   "cell_type": "code",
   "execution_count": 46,
   "id": "e0995db5",
   "metadata": {},
   "outputs": [
    {
     "data": {
      "text/plain": [
       "array([ 0, 20, 19, 24, 27, 12, 33, 36, 13, 26,  9, 14, 16, 22,  7, 30, 32,\n",
       "       38, 29, 42, 11, 15, 46, 31,  8, 21, 10, 34, 43, 25, 17, 35, 23, 28,\n",
       "       18, 39,  6, 37, 48], dtype=int64)"
      ]
     },
     "execution_count": 46,
     "metadata": {},
     "output_type": "execute_result"
    }
   ],
   "source": [
    "data['funding_list_no_of_investors'].unique()"
   ]
  },
  {
   "cell_type": "code",
   "execution_count": 47,
   "id": "6fadd7c4",
   "metadata": {},
   "outputs": [],
   "source": [
    "data.drop(['fundingList/0/noOfInvestors','fundingList/1/noOfInvestors','fundingList/2/noOfInvestors','fundingList/3/noOfInvestors','fundingList/4/noOfInvestors','fundingList/5/noOfInvestors'],axis=1,inplace=True)"
   ]
  },
  {
   "cell_type": "code",
   "execution_count": 48,
   "id": "3ef11c20",
   "metadata": {},
   "outputs": [],
   "source": [
    "#Importing the libraries for datetime formatting\n",
    "from dateutil.relativedelta import relativedelta\n",
    "from datetime import date\n",
    "\n",
    "# get today's date\n",
    "today = date.today()"
   ]
  },
  {
   "cell_type": "code",
   "execution_count": 49,
   "id": "59d73479",
   "metadata": {
    "scrolled": true
   },
   "outputs": [
    {
     "name": "stdout",
     "output_type": "stream",
     "text": [
      "<class 'pandas.core.frame.DataFrame'>\n",
      "RangeIndex: 7462 entries, 0 to 7461\n",
      "Data columns (total 33 columns):\n",
      " #   Column                           Non-Null Count  Dtype  \n",
      "---  ------                           --------------  -----  \n",
      " 0   _id/$oid                         7462 non-null   object \n",
      " 1   companyName                      7462 non-null   object \n",
      " 2   domainName                       7462 non-null   object \n",
      " 3   crunchbase_url                   7462 non-null   object \n",
      " 4   TYPE                             6097 non-null   object \n",
      " 5   UpdatedOn/$date                  7428 non-null   object \n",
      " 6   companyDesc                      6247 non-null   object \n",
      " 7   companyWebsite                   7336 non-null   object \n",
      " 8   employeeNumber/max               6604 non-null   float64\n",
      " 9   employeeNumber/min               6604 non-null   float64\n",
      " 10  foundedDate/$date/$numberLong    1021 non-null   float64\n",
      " 11  fintech_payment                  634 non-null    float64\n",
      " 12  foundedDate                      5582 non-null   object \n",
      " 13  fundingList/0/fundingDate/$date  2139 non-null   object \n",
      " 14  hardware                         310 non-null    float64\n",
      " 15  companyName/1                    1967 non-null   object \n",
      " 16  companyName/2                    621 non-null    object \n",
      " 17  healthcare                       466 non-null    float64\n",
      " 18  fundingList/1/fundingDate/$date  1334 non-null   object \n",
      " 19  companyName/3                    270 non-null    object \n",
      " 20  fundingList/2/fundingDate/$date  930 non-null    object \n",
      " 21  fundingList/3/fundingDate/$date  689 non-null    object \n",
      " 22  edtech                           275 non-null    float64\n",
      " 23  martech                          416 non-null    float64\n",
      " 24  ecommerce                        307 non-null    float64\n",
      " 25  fundingList/4/fundingDate/$date  495 non-null    object \n",
      " 26  fundingList/5/fundingDate/$date  342 non-null    object \n",
      " 27  tags                             7462 non-null   object \n",
      " 28  domain_groups                    7462 non-null   object \n",
      " 29  funding_list_money_raised        7462 non-null   object \n",
      " 30  funding_list_funding_type        2140 non-null   object \n",
      " 31  funding_list_leading_investors   1483 non-null   object \n",
      " 32  funding_list_no_of_investors     7462 non-null   int64  \n",
      "dtypes: float64(9), int64(1), object(23)\n",
      "memory usage: 1.9+ MB\n"
     ]
    }
   ],
   "source": [
    "data.info()"
   ]
  },
  {
   "cell_type": "markdown",
   "id": "fa6b6241",
   "metadata": {},
   "source": [
    "#### I'm converting date columns to date and getting the total year values"
   ]
  },
  {
   "cell_type": "code",
   "execution_count": 50,
   "id": "21f5b043",
   "metadata": {},
   "outputs": [],
   "source": [
    "data['fundingList/0/fundingDate/$date'] = pd.to_datetime(data['fundingList/0/fundingDate/$date'])\n",
    "data['fundingList/1/fundingDate/$date'] = pd.to_datetime(data['fundingList/1/fundingDate/$date'])\n",
    "data['fundingList/2/fundingDate/$date'] = pd.to_datetime(data['fundingList/2/fundingDate/$date'])\n",
    "data['fundingList/3/fundingDate/$date'] = pd.to_datetime(data['fundingList/3/fundingDate/$date'])\n",
    "data['fundingList/4/fundingDate/$date'] = pd.to_datetime(data['fundingList/4/fundingDate/$date'])\n",
    "data['fundingList/5/fundingDate/$date'] = pd.to_datetime(data['fundingList/5/fundingDate/$date'])"
   ]
  },
  {
   "cell_type": "code",
   "execution_count": 51,
   "id": "d7e72830",
   "metadata": {},
   "outputs": [],
   "source": [
    "data['fundingdate0']=(pd.to_datetime('now') - pd.to_datetime(data['fundingList/0/fundingDate/$date'])) / np.timedelta64(1, 'Y')\n",
    "data['fundingdate1']=(pd.to_datetime('now') - pd.to_datetime(data['fundingList/1/fundingDate/$date'])) / np.timedelta64(1, 'Y')\n",
    "data['fundingdate2']=(pd.to_datetime('now') - pd.to_datetime(data['fundingList/2/fundingDate/$date'])) / np.timedelta64(1, 'Y')\n",
    "data['fundingdate3']=(pd.to_datetime('now') - pd.to_datetime(data['fundingList/3/fundingDate/$date'])) / np.timedelta64(1, 'Y')\n",
    "data['fundingdate4']=(pd.to_datetime('now') - pd.to_datetime(data['fundingList/4/fundingDate/$date'])) / np.timedelta64(1, 'Y')\n",
    "data['fundingdate5']=(pd.to_datetime('now') - pd.to_datetime(data['fundingList/5/fundingDate/$date'])) / np.timedelta64(1, 'Y')"
   ]
  },
  {
   "cell_type": "code",
   "execution_count": 52,
   "id": "75936d5c",
   "metadata": {},
   "outputs": [],
   "source": [
    "data['funding_date']=data['fundingdate0'].fillna(data['fundingdate1']).fillna(data['fundingdate2']).fillna(data['fundingdate3']).fillna(data['fundingdate4']).fillna(data['fundingdate5'])"
   ]
  },
  {
   "cell_type": "code",
   "execution_count": 53,
   "id": "fc401974",
   "metadata": {},
   "outputs": [],
   "source": [
    "data.drop(['fundingList/0/fundingDate/$date','fundingList/1/fundingDate/$date','fundingList/2/fundingDate/$date','fundingList/3/fundingDate/$date','fundingList/4/fundingDate/$date','fundingList/5/fundingDate/$date','fundingdate0','fundingdate1','fundingdate2','fundingdate3','fundingdate4','fundingdate5'],axis=1,inplace=True)"
   ]
  },
  {
   "cell_type": "code",
   "execution_count": 54,
   "id": "1cae20bd",
   "metadata": {
    "scrolled": true
   },
   "outputs": [
    {
     "name": "stdout",
     "output_type": "stream",
     "text": [
      "<class 'pandas.core.frame.DataFrame'>\n",
      "RangeIndex: 7462 entries, 0 to 7461\n",
      "Data columns (total 28 columns):\n",
      " #   Column                          Non-Null Count  Dtype  \n",
      "---  ------                          --------------  -----  \n",
      " 0   _id/$oid                        7462 non-null   object \n",
      " 1   companyName                     7462 non-null   object \n",
      " 2   domainName                      7462 non-null   object \n",
      " 3   crunchbase_url                  7462 non-null   object \n",
      " 4   TYPE                            6097 non-null   object \n",
      " 5   UpdatedOn/$date                 7428 non-null   object \n",
      " 6   companyDesc                     6247 non-null   object \n",
      " 7   companyWebsite                  7336 non-null   object \n",
      " 8   employeeNumber/max              6604 non-null   float64\n",
      " 9   employeeNumber/min              6604 non-null   float64\n",
      " 10  foundedDate/$date/$numberLong   1021 non-null   float64\n",
      " 11  fintech_payment                 634 non-null    float64\n",
      " 12  foundedDate                     5582 non-null   object \n",
      " 13  hardware                        310 non-null    float64\n",
      " 14  companyName/1                   1967 non-null   object \n",
      " 15  companyName/2                   621 non-null    object \n",
      " 16  healthcare                      466 non-null    float64\n",
      " 17  companyName/3                   270 non-null    object \n",
      " 18  edtech                          275 non-null    float64\n",
      " 19  martech                         416 non-null    float64\n",
      " 20  ecommerce                       307 non-null    float64\n",
      " 21  tags                            7462 non-null   object \n",
      " 22  domain_groups                   7462 non-null   object \n",
      " 23  funding_list_money_raised       7462 non-null   object \n",
      " 24  funding_list_funding_type       2140 non-null   object \n",
      " 25  funding_list_leading_investors  1483 non-null   object \n",
      " 26  funding_list_no_of_investors    7462 non-null   int64  \n",
      " 27  funding_date                    2139 non-null   float64\n",
      "dtypes: float64(10), int64(1), object(17)\n",
      "memory usage: 1.6+ MB\n"
     ]
    }
   ],
   "source": [
    "data.info()"
   ]
  },
  {
   "cell_type": "code",
   "execution_count": 55,
   "id": "edc52acd",
   "metadata": {},
   "outputs": [],
   "source": [
    "#missing values in the 'companyWebsite', 'companyDesc', 'employeeNumber/max' and 'employeeNumber/min' columns of a DataFrame with specified values or median values. \n",
    "\n",
    "data['companyWebsite'].fillna(\"Not Found\",inplace=True)\n",
    "data['companyDesc'].fillna(\"Not Found\",inplace=True)\n",
    "data['employeeNumber/max'].fillna(int(data['employeeNumber/max'].median()),inplace=True)\n",
    "data['employeeNumber/min'].fillna(int(data['employeeNumber/min'].median()),inplace=True)"
   ]
  },
  {
   "cell_type": "code",
   "execution_count": 56,
   "id": "48748110",
   "metadata": {},
   "outputs": [],
   "source": [
    "data['funding_date']=round(data['funding_date'],2).fillna(0)"
   ]
  },
  {
   "cell_type": "code",
   "execution_count": 57,
   "id": "929ca303",
   "metadata": {},
   "outputs": [
    {
     "data": {
      "text/plain": [
       "0        0.00\n",
       "1        0.00\n",
       "2        8.38\n",
       "3       12.85\n",
       "4        0.00\n",
       "        ...  \n",
       "7457     0.00\n",
       "7458     0.00\n",
       "7459     0.00\n",
       "7460     0.00\n",
       "7461     0.00\n",
       "Name: funding_date, Length: 7462, dtype: float64"
      ]
     },
     "execution_count": 57,
     "metadata": {},
     "output_type": "execute_result"
    }
   ],
   "source": [
    "data['funding_date']"
   ]
  },
  {
   "cell_type": "code",
   "execution_count": 58,
   "id": "278f2f89",
   "metadata": {
    "scrolled": true
   },
   "outputs": [
    {
     "data": {
      "text/plain": [
       "0    Product-based\n",
       "Name: TYPE, dtype: object"
      ]
     },
     "execution_count": 58,
     "metadata": {},
     "output_type": "execute_result"
    }
   ],
   "source": [
    "data[\"TYPE\"].mode()"
   ]
  },
  {
   "cell_type": "code",
   "execution_count": 59,
   "id": "98b1b303",
   "metadata": {
    "scrolled": false
   },
   "outputs": [
    {
     "data": {
      "text/plain": [
       "0       2023-05-07\n",
       "1       2000-01-01\n",
       "2       2014-11-03\n",
       "3       2010-07-01\n",
       "4       2023-05-07\n",
       "           ...    \n",
       "7457    2013-02-05\n",
       "7458    2000-01-01\n",
       "7459    2023-05-07\n",
       "7460    1999-11-03\n",
       "7461    2023-05-07\n",
       "Name: foundedDate, Length: 7462, dtype: object"
      ]
     },
     "execution_count": 59,
     "metadata": {},
     "output_type": "execute_result"
    }
   ],
   "source": [
    "data.foundedDate.fillna(today)"
   ]
  },
  {
   "cell_type": "code",
   "execution_count": 60,
   "id": "22881a4b",
   "metadata": {},
   "outputs": [],
   "source": [
    "data[\"TYPE\"].fillna(\"Product-based\",inplace=True)"
   ]
  },
  {
   "cell_type": "code",
   "execution_count": 61,
   "id": "60646bf1",
   "metadata": {},
   "outputs": [],
   "source": [
    "#Working on the founded date and getting the total no. of years it has been present"
   ]
  },
  {
   "cell_type": "code",
   "execution_count": 62,
   "id": "0483ff80",
   "metadata": {},
   "outputs": [],
   "source": [
    "import datetime"
   ]
  },
  {
   "cell_type": "code",
   "execution_count": 63,
   "id": "bef79e5d",
   "metadata": {},
   "outputs": [],
   "source": [
    "data['foundedDate'] = pd.to_datetime(data['foundedDate'])"
   ]
  },
  {
   "cell_type": "code",
   "execution_count": 64,
   "id": "56bd9e36",
   "metadata": {
    "scrolled": false
   },
   "outputs": [],
   "source": [
    "data['foundedDate'].fillna(data['foundedDate'].mean(), inplace=True)"
   ]
  },
  {
   "cell_type": "code",
   "execution_count": 65,
   "id": "3291f917",
   "metadata": {},
   "outputs": [],
   "source": [
    "data['foundedDate']= data['foundedDate'].dt.date"
   ]
  },
  {
   "cell_type": "code",
   "execution_count": 66,
   "id": "28c081ab",
   "metadata": {},
   "outputs": [
    {
     "data": {
      "text/plain": [
       "0       2003-05-03\n",
       "1       2000-01-01\n",
       "2       2014-11-03\n",
       "3       2010-07-01\n",
       "4       2003-05-03\n",
       "           ...    \n",
       "7457    2013-02-05\n",
       "7458    2000-01-01\n",
       "7459    2003-05-03\n",
       "7460    1999-11-03\n",
       "7461    2003-05-03\n",
       "Name: foundedDate, Length: 7462, dtype: object"
      ]
     },
     "execution_count": 66,
     "metadata": {},
     "output_type": "execute_result"
    }
   ],
   "source": [
    "data['foundedDate']"
   ]
  },
  {
   "cell_type": "code",
   "execution_count": 67,
   "id": "889d8771",
   "metadata": {},
   "outputs": [],
   "source": [
    "data['FoundedYears'] = (pd.to_datetime('now') - pd.to_datetime(data['foundedDate'])) / np.timedelta64(1, 'Y')"
   ]
  },
  {
   "cell_type": "code",
   "execution_count": 68,
   "id": "4c794c87",
   "metadata": {},
   "outputs": [],
   "source": [
    "#Rounding off the values to 2 decimal for better use\n",
    "data['FoundedYears']=data['FoundedYears'].apply(lambda x: round(x,2))"
   ]
  },
  {
   "cell_type": "code",
   "execution_count": 69,
   "id": "ef81f9da",
   "metadata": {},
   "outputs": [
    {
     "data": {
      "text/plain": [
       "0       20.01\n",
       "1       23.35\n",
       "2        8.51\n",
       "3       12.85\n",
       "4       20.01\n",
       "        ...  \n",
       "7457    10.25\n",
       "7458    23.35\n",
       "7459    20.01\n",
       "7460    23.51\n",
       "7461    20.01\n",
       "Name: FoundedYears, Length: 7462, dtype: float64"
      ]
     },
     "execution_count": 69,
     "metadata": {},
     "output_type": "execute_result"
    }
   ],
   "source": [
    "data['FoundedYears']"
   ]
  },
  {
   "cell_type": "markdown",
   "id": "9482331b",
   "metadata": {},
   "source": [
    "## Now we've thoroughly cleaned the data and I'm going to create a new dataframe from the existing one for major columns and I'll use the data dataframe for getting more details when further needed"
   ]
  },
  {
   "cell_type": "code",
   "execution_count": 70,
   "id": "82749b4d",
   "metadata": {},
   "outputs": [],
   "source": [
    "# New dataframe with accurate columns\n",
    "df = pd.DataFrame().assign(company=data['companyName'], domain_name=data['domainName'],\n",
    "                           c_url=data['crunchbase_url'],type_p_s=data['TYPE'],description=data['companyDesc'],\n",
    "                           website=data[\"companyWebsite\"],max_exmp=data['employeeNumber/max'],\n",
    "                           min_emp=data['employeeNumber/min'],tags=data['tags'],domain=data['domain_groups'],\n",
    "                           money_raised=data['funding_list_money_raised'],funding_type=data['funding_list_funding_type'],\n",
    "                           lead_investor=data['funding_list_leading_investors'],\n",
    "                           total_investor=data['funding_list_no_of_investors'],founded_years=data['FoundedYears'])"
   ]
  },
  {
   "cell_type": "code",
   "execution_count": 71,
   "id": "ed789b27",
   "metadata": {},
   "outputs": [
    {
     "name": "stdout",
     "output_type": "stream",
     "text": [
      "<class 'pandas.core.frame.DataFrame'>\n",
      "RangeIndex: 7462 entries, 0 to 7461\n",
      "Data columns (total 15 columns):\n",
      " #   Column          Non-Null Count  Dtype  \n",
      "---  ------          --------------  -----  \n",
      " 0   company         7462 non-null   object \n",
      " 1   domain_name     7462 non-null   object \n",
      " 2   c_url           7462 non-null   object \n",
      " 3   type_p_s        7462 non-null   object \n",
      " 4   description     7462 non-null   object \n",
      " 5   website         7462 non-null   object \n",
      " 6   max_exmp        7462 non-null   float64\n",
      " 7   min_emp         7462 non-null   float64\n",
      " 8   tags            7462 non-null   object \n",
      " 9   domain          7462 non-null   object \n",
      " 10  money_raised    7462 non-null   object \n",
      " 11  funding_type    2140 non-null   object \n",
      " 12  lead_investor   1483 non-null   object \n",
      " 13  total_investor  7462 non-null   int64  \n",
      " 14  founded_years   7462 non-null   float64\n",
      "dtypes: float64(3), int64(1), object(11)\n",
      "memory usage: 874.6+ KB\n"
     ]
    }
   ],
   "source": [
    "df.info()"
   ]
  },
  {
   "cell_type": "code",
   "execution_count": 72,
   "id": "e52103ad",
   "metadata": {},
   "outputs": [],
   "source": [
    "df['money_raised']=df.money_raised.fillna(0)\n",
    "df['funding_type']=df.funding_type.fillna(\"Not Found\")\n",
    "df['lead_investor']=df['lead_investor'].fillna(\"None\")"
   ]
  },
  {
   "cell_type": "code",
   "execution_count": 73,
   "id": "be22c75f",
   "metadata": {},
   "outputs": [
    {
     "data": {
      "text/html": [
       "<div>\n",
       "<style scoped>\n",
       "    .dataframe tbody tr th:only-of-type {\n",
       "        vertical-align: middle;\n",
       "    }\n",
       "\n",
       "    .dataframe tbody tr th {\n",
       "        vertical-align: top;\n",
       "    }\n",
       "\n",
       "    .dataframe thead th {\n",
       "        text-align: right;\n",
       "    }\n",
       "</style>\n",
       "<table border=\"1\" class=\"dataframe\">\n",
       "  <thead>\n",
       "    <tr style=\"text-align: right;\">\n",
       "      <th></th>\n",
       "      <th>max_exmp</th>\n",
       "      <th>min_emp</th>\n",
       "      <th>total_investor</th>\n",
       "      <th>founded_years</th>\n",
       "    </tr>\n",
       "  </thead>\n",
       "  <tbody>\n",
       "    <tr>\n",
       "      <th>count</th>\n",
       "      <td>7462.000000</td>\n",
       "      <td>7462.000000</td>\n",
       "      <td>7462.000000</td>\n",
       "      <td>7462.000000</td>\n",
       "    </tr>\n",
       "    <tr>\n",
       "      <th>mean</th>\n",
       "      <td>2605.952828</td>\n",
       "      <td>480.544358</td>\n",
       "      <td>0.566202</td>\n",
       "      <td>20.012834</td>\n",
       "    </tr>\n",
       "    <tr>\n",
       "      <th>std</th>\n",
       "      <td>3819.919892</td>\n",
       "      <td>1165.522893</td>\n",
       "      <td>3.663079</td>\n",
       "      <td>9.573353</td>\n",
       "    </tr>\n",
       "    <tr>\n",
       "      <th>min</th>\n",
       "      <td>10.000000</td>\n",
       "      <td>0.000000</td>\n",
       "      <td>0.000000</td>\n",
       "      <td>3.280000</td>\n",
       "    </tr>\n",
       "    <tr>\n",
       "      <th>25%</th>\n",
       "      <td>100.000000</td>\n",
       "      <td>11.000000</td>\n",
       "      <td>0.000000</td>\n",
       "      <td>12.930000</td>\n",
       "    </tr>\n",
       "    <tr>\n",
       "      <th>50%</th>\n",
       "      <td>500.000000</td>\n",
       "      <td>51.000000</td>\n",
       "      <td>0.000000</td>\n",
       "      <td>20.010000</td>\n",
       "    </tr>\n",
       "    <tr>\n",
       "      <th>75%</th>\n",
       "      <td>5000.000000</td>\n",
       "      <td>501.000000</td>\n",
       "      <td>0.000000</td>\n",
       "      <td>23.350000</td>\n",
       "    </tr>\n",
       "    <tr>\n",
       "      <th>max</th>\n",
       "      <td>10001.000000</td>\n",
       "      <td>5001.000000</td>\n",
       "      <td>48.000000</td>\n",
       "      <td>53.350000</td>\n",
       "    </tr>\n",
       "  </tbody>\n",
       "</table>\n",
       "</div>"
      ],
      "text/plain": [
       "           max_exmp      min_emp  total_investor  founded_years\n",
       "count   7462.000000  7462.000000     7462.000000    7462.000000\n",
       "mean    2605.952828   480.544358        0.566202      20.012834\n",
       "std     3819.919892  1165.522893        3.663079       9.573353\n",
       "min       10.000000     0.000000        0.000000       3.280000\n",
       "25%      100.000000    11.000000        0.000000      12.930000\n",
       "50%      500.000000    51.000000        0.000000      20.010000\n",
       "75%     5000.000000   501.000000        0.000000      23.350000\n",
       "max    10001.000000  5001.000000       48.000000      53.350000"
      ]
     },
     "execution_count": 73,
     "metadata": {},
     "output_type": "execute_result"
    }
   ],
   "source": [
    "df.describe()"
   ]
  },
  {
   "cell_type": "code",
   "execution_count": 74,
   "id": "b07defd7",
   "metadata": {},
   "outputs": [
    {
     "data": {
      "text/plain": [
       "(7462, 15)"
      ]
     },
     "execution_count": 74,
     "metadata": {},
     "output_type": "execute_result"
    }
   ],
   "source": [
    "df.shape"
   ]
  },
  {
   "cell_type": "code",
   "execution_count": 75,
   "id": "bcd2a713",
   "metadata": {
    "scrolled": true
   },
   "outputs": [
    {
     "data": {
      "text/html": [
       "<div>\n",
       "<style scoped>\n",
       "    .dataframe tbody tr th:only-of-type {\n",
       "        vertical-align: middle;\n",
       "    }\n",
       "\n",
       "    .dataframe tbody tr th {\n",
       "        vertical-align: top;\n",
       "    }\n",
       "\n",
       "    .dataframe thead th {\n",
       "        text-align: right;\n",
       "    }\n",
       "</style>\n",
       "<table border=\"1\" class=\"dataframe\">\n",
       "  <thead>\n",
       "    <tr style=\"text-align: right;\">\n",
       "      <th></th>\n",
       "      <th>company</th>\n",
       "      <th>domain_name</th>\n",
       "      <th>c_url</th>\n",
       "      <th>type_p_s</th>\n",
       "      <th>description</th>\n",
       "      <th>website</th>\n",
       "      <th>max_exmp</th>\n",
       "      <th>min_emp</th>\n",
       "      <th>tags</th>\n",
       "      <th>domain</th>\n",
       "      <th>money_raised</th>\n",
       "      <th>funding_type</th>\n",
       "      <th>lead_investor</th>\n",
       "      <th>total_investor</th>\n",
       "      <th>founded_years</th>\n",
       "    </tr>\n",
       "  </thead>\n",
       "  <tbody>\n",
       "    <tr>\n",
       "      <th>0</th>\n",
       "      <td>21st century insurance</td>\n",
       "      <td>21st</td>\n",
       "      <td>https://www.crunchbase.com/organization/21st-c...</td>\n",
       "      <td>Product-based</td>\n",
       "      <td>since 1958, 21st century insurance has been de...</td>\n",
       "      <td>www.21st.com</td>\n",
       "      <td>10000.0</td>\n",
       "      <td>5001.0</td>\n",
       "      <td>finance insurance</td>\n",
       "      <td>fintech_payment</td>\n",
       "      <td>₹1.1K</td>\n",
       "      <td>Not Found</td>\n",
       "      <td>None</td>\n",
       "      <td>0</td>\n",
       "      <td>20.01</td>\n",
       "    </tr>\n",
       "    <tr>\n",
       "      <th>1</th>\n",
       "      <td>3d networks</td>\n",
       "      <td>3dnetworks</td>\n",
       "      <td>https://www.crunchbase.com/organization/3d-net...</td>\n",
       "      <td>Product-based</td>\n",
       "      <td>Not Found</td>\n",
       "      <td>www.3dnetworks.com</td>\n",
       "      <td>500.0</td>\n",
       "      <td>51.0</td>\n",
       "      <td>3d technology</td>\n",
       "      <td></td>\n",
       "      <td>₹1.1K</td>\n",
       "      <td>Not Found</td>\n",
       "      <td>None</td>\n",
       "      <td>0</td>\n",
       "      <td>23.35</td>\n",
       "    </tr>\n",
       "    <tr>\n",
       "      <th>2</th>\n",
       "      <td>3dphy</td>\n",
       "      <td>3dphy</td>\n",
       "      <td>https://www.crunchbase.com/organization/3dphy-...</td>\n",
       "      <td>Product-based</td>\n",
       "      <td>3dphy provides a range of 3d virtual and augme...</td>\n",
       "      <td>www.3dphy.com</td>\n",
       "      <td>50.0</td>\n",
       "      <td>11.0</td>\n",
       "      <td>3d technology augmented reality e-commerce</td>\n",
       "      <td></td>\n",
       "      <td>₹13M</td>\n",
       "      <td>funding round</td>\n",
       "      <td>None</td>\n",
       "      <td>0</td>\n",
       "      <td>8.51</td>\n",
       "    </tr>\n",
       "    <tr>\n",
       "      <th>3</th>\n",
       "      <td>3lm</td>\n",
       "      <td>3lm</td>\n",
       "      <td>https://www.crunchbase.com/organization/3lm?ut...</td>\n",
       "      <td>Product-based</td>\n",
       "      <td>3lm has already signed deals to provide its te...</td>\n",
       "      <td>www.3lm.com</td>\n",
       "      <td>50.0</td>\n",
       "      <td>11.0</td>\n",
       "      <td>android enterprise software mobile</td>\n",
       "      <td></td>\n",
       "      <td>$1.5M</td>\n",
       "      <td>seed round</td>\n",
       "      <td>None</td>\n",
       "      <td>0</td>\n",
       "      <td>12.85</td>\n",
       "    </tr>\n",
       "    <tr>\n",
       "      <th>4</th>\n",
       "      <td>3m</td>\n",
       "      <td>3m</td>\n",
       "      <td>https://www.crunchbase.com/organization/3m?utm...</td>\n",
       "      <td>Product-based</td>\n",
       "      <td>3m operates as a diversified technology compan...</td>\n",
       "      <td>www.3m.com</td>\n",
       "      <td>10001.0</td>\n",
       "      <td>0.0</td>\n",
       "      <td>automotive electronics enterprise software</td>\n",
       "      <td>hardware</td>\n",
       "      <td>₹1.1K</td>\n",
       "      <td>Not Found</td>\n",
       "      <td>None</td>\n",
       "      <td>0</td>\n",
       "      <td>20.01</td>\n",
       "    </tr>\n",
       "  </tbody>\n",
       "</table>\n",
       "</div>"
      ],
      "text/plain": [
       "                  company domain_name  \\\n",
       "0  21st century insurance        21st   \n",
       "1             3d networks  3dnetworks   \n",
       "2                   3dphy       3dphy   \n",
       "3                     3lm         3lm   \n",
       "4                      3m          3m   \n",
       "\n",
       "                                               c_url       type_p_s  \\\n",
       "0  https://www.crunchbase.com/organization/21st-c...  Product-based   \n",
       "1  https://www.crunchbase.com/organization/3d-net...  Product-based   \n",
       "2  https://www.crunchbase.com/organization/3dphy-...  Product-based   \n",
       "3  https://www.crunchbase.com/organization/3lm?ut...  Product-based   \n",
       "4  https://www.crunchbase.com/organization/3m?utm...  Product-based   \n",
       "\n",
       "                                         description             website  \\\n",
       "0  since 1958, 21st century insurance has been de...        www.21st.com   \n",
       "1                                          Not Found  www.3dnetworks.com   \n",
       "2  3dphy provides a range of 3d virtual and augme...       www.3dphy.com   \n",
       "3  3lm has already signed deals to provide its te...         www.3lm.com   \n",
       "4  3m operates as a diversified technology compan...          www.3m.com   \n",
       "\n",
       "   max_exmp  min_emp                                        tags  \\\n",
       "0   10000.0   5001.0                           finance insurance   \n",
       "1     500.0     51.0                               3d technology   \n",
       "2      50.0     11.0  3d technology augmented reality e-commerce   \n",
       "3      50.0     11.0          android enterprise software mobile   \n",
       "4   10001.0      0.0  automotive electronics enterprise software   \n",
       "\n",
       "            domain money_raised   funding_type lead_investor  total_investor  \\\n",
       "0  fintech_payment        ₹1.1K      Not Found          None               0   \n",
       "1                         ₹1.1K      Not Found          None               0   \n",
       "2                          ₹13M  funding round          None               0   \n",
       "3                         $1.5M     seed round          None               0   \n",
       "4         hardware        ₹1.1K      Not Found          None               0   \n",
       "\n",
       "   founded_years  \n",
       "0          20.01  \n",
       "1          23.35  \n",
       "2           8.51  \n",
       "3          12.85  \n",
       "4          20.01  "
      ]
     },
     "execution_count": 75,
     "metadata": {},
     "output_type": "execute_result"
    }
   ],
   "source": [
    "df.head()"
   ]
  },
  {
   "cell_type": "markdown",
   "id": "d6b9b780",
   "metadata": {},
   "source": [
    "# Major definition for the first question"
   ]
  },
  {
   "cell_type": "code",
   "execution_count": 76,
   "id": "ce13bac2",
   "metadata": {},
   "outputs": [],
   "source": [
    " \"\"\"\n",
    "    Finds companies in the provided DataFrame that are the competitors of the given company.\n",
    "\n",
    "    Args:\n",
    "        df: A pandas DataFrame containing columns 'company', 'tags', 'max_exmp', 'founded_years', 'total_investor'.\n",
    "        company_name: A string specifying the name of the company to find similar competitors for.\n",
    "\n",
    "    Returns:\n",
    "        A list of up to 5 company names that have similar tags to the specified company and satisfy the following conditions:\n",
    "            - The company has at least 2 tags in common with the specified company.\n",
    "            - The company has more employees than the specified company.\n",
    "            - The company was founded later than the specified company.\n",
    "            - The company has more investors than the specified company.\n",
    "        If there are not enough companies that satisfy these conditions, then the function returns up to 2 companies that have at least 1 tag in common with the specified company and satisfy the other conditions.\n",
    "        If there are no companies that satisfy these conditions, then the function returns an empty list.\n",
    "    \"\"\"\n",
    "\n",
    "def has_similar_tags(df, company_name):\n",
    "    if df[df['company'].str.contains(company_name)].empty:\n",
    "        if df[df['domain_name'].str.contains(company_name)].empty:\n",
    "            company_name = 'None'\n",
    "        else:\n",
    "            index = df['domain_name'].tolist().index(company_name)\n",
    "            company_name = df.loc[index,'company']\n",
    "    else:\n",
    "        company_name = company_name\n",
    "    company_tags = set(df[df['company'] == company_name]['tags'].iloc[0].split())\n",
    "    company_employees = df[df['company'] == company_name]['max_exmp'].iloc[0]\n",
    "    company_founded_year = df[df['company'] == company_name]['founded_years'].iloc[0]\n",
    "    company_investors = df[df['company'] == company_name]['total_investor'].iloc[0]\n",
    "    df['Similarity'] = df.apply(lambda x: len(set(x['tags'].split()) & company_tags) if x['company'] != company_name else 0, axis=1)\n",
    "    df['Ranking Score'] = df.apply(lambda x: x['Similarity'] + (1 if x['max_exmp'] > company_employees else 0) + (1 if x['founded_years'] > company_founded_year else 0) + (1 if x['total_investor'] > company_investors else 0), axis=1)\n",
    "    similar_companies = df[(df['Similarity'] > 0) & (df['max_exmp'] > company_employees) & (df['founded_years'] < company_founded_year) & (df['total_investor'] > company_investors)].sort_values(by='Ranking Score', ascending=False).head(5)['company']\n",
    "    if len(similar_companies) < 2:\n",
    "        similar_companies = df[(df['Similarity'] > 0) & (df['founded_years'] < company_founded_year) & (df['tags'].str.contains('|'.join(company_tags)))].sort_values(by=['Similarity', 'max_exmp'], ascending=[False, False])['company'].head(2)\n",
    "    else:\n",
    "        similar_companies = similar_companies.head(5)\n",
    "    return similar_companies.tolist()"
   ]
  },
  {
   "cell_type": "markdown",
   "id": "0cba2650",
   "metadata": {},
   "source": [
    "## Provide the company name in place of amobee that you want to search for"
   ]
  },
  {
   "cell_type": "code",
   "execution_count": 77,
   "id": "d4ba7704",
   "metadata": {
    "scrolled": true
   },
   "outputs": [
    {
     "name": "stdout",
     "output_type": "stream",
     "text": [
      "Enter the company that you want to know the top competitors about: airbnb\n",
      "['zostel', 'reddoorz']\n"
     ]
    }
   ],
   "source": [
    "comp=input(\"Enter the company that you want to know the top competitors about: \")\n",
    "print(has_similar_tags(df,comp))"
   ]
  },
  {
   "cell_type": "code",
   "execution_count": 78,
   "id": "684381b3",
   "metadata": {},
   "outputs": [
    {
     "data": {
      "text/html": [
       "<div>\n",
       "<style scoped>\n",
       "    .dataframe tbody tr th:only-of-type {\n",
       "        vertical-align: middle;\n",
       "    }\n",
       "\n",
       "    .dataframe tbody tr th {\n",
       "        vertical-align: top;\n",
       "    }\n",
       "\n",
       "    .dataframe thead th {\n",
       "        text-align: right;\n",
       "    }\n",
       "</style>\n",
       "<table border=\"1\" class=\"dataframe\">\n",
       "  <thead>\n",
       "    <tr style=\"text-align: right;\">\n",
       "      <th></th>\n",
       "      <th>company</th>\n",
       "      <th>domain_name</th>\n",
       "      <th>c_url</th>\n",
       "      <th>type_p_s</th>\n",
       "      <th>description</th>\n",
       "      <th>website</th>\n",
       "      <th>max_exmp</th>\n",
       "      <th>min_emp</th>\n",
       "      <th>tags</th>\n",
       "      <th>domain</th>\n",
       "      <th>money_raised</th>\n",
       "      <th>funding_type</th>\n",
       "      <th>lead_investor</th>\n",
       "      <th>total_investor</th>\n",
       "      <th>founded_years</th>\n",
       "      <th>Similarity</th>\n",
       "      <th>Ranking Score</th>\n",
       "    </tr>\n",
       "  </thead>\n",
       "  <tbody>\n",
       "    <tr>\n",
       "      <th>0</th>\n",
       "      <td>21st century insurance</td>\n",
       "      <td>21st</td>\n",
       "      <td>https://www.crunchbase.com/organization/21st-c...</td>\n",
       "      <td>Product-based</td>\n",
       "      <td>since 1958, 21st century insurance has been de...</td>\n",
       "      <td>www.21st.com</td>\n",
       "      <td>10000.0</td>\n",
       "      <td>5001.0</td>\n",
       "      <td>finance insurance</td>\n",
       "      <td>fintech_payment</td>\n",
       "      <td>₹1.1K</td>\n",
       "      <td>Not Found</td>\n",
       "      <td>None</td>\n",
       "      <td>0</td>\n",
       "      <td>20.01</td>\n",
       "      <td>0</td>\n",
       "      <td>2</td>\n",
       "    </tr>\n",
       "    <tr>\n",
       "      <th>1</th>\n",
       "      <td>3d networks</td>\n",
       "      <td>3dnetworks</td>\n",
       "      <td>https://www.crunchbase.com/organization/3d-net...</td>\n",
       "      <td>Product-based</td>\n",
       "      <td>Not Found</td>\n",
       "      <td>www.3dnetworks.com</td>\n",
       "      <td>500.0</td>\n",
       "      <td>51.0</td>\n",
       "      <td>3d technology</td>\n",
       "      <td></td>\n",
       "      <td>₹1.1K</td>\n",
       "      <td>Not Found</td>\n",
       "      <td>None</td>\n",
       "      <td>0</td>\n",
       "      <td>23.35</td>\n",
       "      <td>0</td>\n",
       "      <td>1</td>\n",
       "    </tr>\n",
       "    <tr>\n",
       "      <th>2</th>\n",
       "      <td>3dphy</td>\n",
       "      <td>3dphy</td>\n",
       "      <td>https://www.crunchbase.com/organization/3dphy-...</td>\n",
       "      <td>Product-based</td>\n",
       "      <td>3dphy provides a range of 3d virtual and augme...</td>\n",
       "      <td>www.3dphy.com</td>\n",
       "      <td>50.0</td>\n",
       "      <td>11.0</td>\n",
       "      <td>3d technology augmented reality e-commerce</td>\n",
       "      <td></td>\n",
       "      <td>₹13M</td>\n",
       "      <td>funding round</td>\n",
       "      <td>None</td>\n",
       "      <td>0</td>\n",
       "      <td>8.51</td>\n",
       "      <td>0</td>\n",
       "      <td>0</td>\n",
       "    </tr>\n",
       "    <tr>\n",
       "      <th>3</th>\n",
       "      <td>3lm</td>\n",
       "      <td>3lm</td>\n",
       "      <td>https://www.crunchbase.com/organization/3lm?ut...</td>\n",
       "      <td>Product-based</td>\n",
       "      <td>3lm has already signed deals to provide its te...</td>\n",
       "      <td>www.3lm.com</td>\n",
       "      <td>50.0</td>\n",
       "      <td>11.0</td>\n",
       "      <td>android enterprise software mobile</td>\n",
       "      <td></td>\n",
       "      <td>$1.5M</td>\n",
       "      <td>seed round</td>\n",
       "      <td>None</td>\n",
       "      <td>0</td>\n",
       "      <td>12.85</td>\n",
       "      <td>0</td>\n",
       "      <td>0</td>\n",
       "    </tr>\n",
       "    <tr>\n",
       "      <th>4</th>\n",
       "      <td>3m</td>\n",
       "      <td>3m</td>\n",
       "      <td>https://www.crunchbase.com/organization/3m?utm...</td>\n",
       "      <td>Product-based</td>\n",
       "      <td>3m operates as a diversified technology compan...</td>\n",
       "      <td>www.3m.com</td>\n",
       "      <td>10001.0</td>\n",
       "      <td>0.0</td>\n",
       "      <td>automotive electronics enterprise software</td>\n",
       "      <td>hardware</td>\n",
       "      <td>₹1.1K</td>\n",
       "      <td>Not Found</td>\n",
       "      <td>None</td>\n",
       "      <td>0</td>\n",
       "      <td>20.01</td>\n",
       "      <td>0</td>\n",
       "      <td>2</td>\n",
       "    </tr>\n",
       "  </tbody>\n",
       "</table>\n",
       "</div>"
      ],
      "text/plain": [
       "                  company domain_name  \\\n",
       "0  21st century insurance        21st   \n",
       "1             3d networks  3dnetworks   \n",
       "2                   3dphy       3dphy   \n",
       "3                     3lm         3lm   \n",
       "4                      3m          3m   \n",
       "\n",
       "                                               c_url       type_p_s  \\\n",
       "0  https://www.crunchbase.com/organization/21st-c...  Product-based   \n",
       "1  https://www.crunchbase.com/organization/3d-net...  Product-based   \n",
       "2  https://www.crunchbase.com/organization/3dphy-...  Product-based   \n",
       "3  https://www.crunchbase.com/organization/3lm?ut...  Product-based   \n",
       "4  https://www.crunchbase.com/organization/3m?utm...  Product-based   \n",
       "\n",
       "                                         description             website  \\\n",
       "0  since 1958, 21st century insurance has been de...        www.21st.com   \n",
       "1                                          Not Found  www.3dnetworks.com   \n",
       "2  3dphy provides a range of 3d virtual and augme...       www.3dphy.com   \n",
       "3  3lm has already signed deals to provide its te...         www.3lm.com   \n",
       "4  3m operates as a diversified technology compan...          www.3m.com   \n",
       "\n",
       "   max_exmp  min_emp                                        tags  \\\n",
       "0   10000.0   5001.0                           finance insurance   \n",
       "1     500.0     51.0                               3d technology   \n",
       "2      50.0     11.0  3d technology augmented reality e-commerce   \n",
       "3      50.0     11.0          android enterprise software mobile   \n",
       "4   10001.0      0.0  automotive electronics enterprise software   \n",
       "\n",
       "            domain money_raised   funding_type lead_investor  total_investor  \\\n",
       "0  fintech_payment        ₹1.1K      Not Found          None               0   \n",
       "1                         ₹1.1K      Not Found          None               0   \n",
       "2                          ₹13M  funding round          None               0   \n",
       "3                         $1.5M     seed round          None               0   \n",
       "4         hardware        ₹1.1K      Not Found          None               0   \n",
       "\n",
       "   founded_years  Similarity  Ranking Score  \n",
       "0          20.01           0              2  \n",
       "1          23.35           0              1  \n",
       "2           8.51           0              0  \n",
       "3          12.85           0              0  \n",
       "4          20.01           0              2  "
      ]
     },
     "execution_count": 78,
     "metadata": {},
     "output_type": "execute_result"
    }
   ],
   "source": [
    "df.head()"
   ]
  },
  {
   "cell_type": "code",
   "execution_count": 79,
   "id": "034e2d9e",
   "metadata": {},
   "outputs": [],
   "source": [
    "currencies={'€', 'SGD', 'CN¥', 'ZAR', 'CA$', 'A$', '$', 'COP', '₹', '¥', '£', 'RUB', 'SEK', 'NOK', 'CHF'}\n",
    "end_part={'K':1000,'M':1000000,'B':1000000000,'T':1000000000000}\n",
    "currency_rates = {'ZAR': 5.14, 'RUB': 0.93, 'A$': 54.91, 'COP': 0.013, 'SEK': 8.27, 'CN¥': 10.04, '£': 98.97, 'NOK': 9.37, '$': 75.15, 'SGD': 55.56, '€': 89.67, '₹': 1, 'CA$': 62.34, 'CHF': 81.65, '¥': 11.63}"
   ]
  },
  {
   "cell_type": "code",
   "execution_count": 80,
   "id": "28a9bcd0",
   "metadata": {},
   "outputs": [],
   "source": [
    "values=df['money_raised']"
   ]
  },
  {
   "cell_type": "code",
   "execution_count": 81,
   "id": "174095b0",
   "metadata": {},
   "outputs": [],
   "source": [
    "#r.findall(r'([^\\d., ]+)', value) finds all non-numeric, non-period, non-comma, non-space characters in each string value \n",
    "#and stores them in the list currency_symbol.\n",
    "#r.findall(r'\\d+(?:\\.\\d+)?', value) finds all numeric characters in each string value and stores them in the list amount.\n",
    "#endings is created by iterating through each value in values and appending the last character of each string to the list."
   ]
  },
  {
   "cell_type": "code",
   "execution_count": 82,
   "id": "1e7eabc0",
   "metadata": {},
   "outputs": [],
   "source": [
    "currency_symbols = []\n",
    "amounts=[]\n",
    "for value in values:\n",
    "    currency_symbol = r.findall(r'([^\\d., ]+)', value)\n",
    "    if currency_symbol:\n",
    "        currency_symbols.append(currency_symbol[0])\n",
    "        \n",
    "        \n",
    "for value in values:\n",
    "    amount=r.findall(r'\\d+(?:\\.\\d+)?', value)\n",
    "    if amount:\n",
    "        amounts.append(amount[0])\n",
    "\n",
    "endings = [value[-1] for value in values]"
   ]
  },
  {
   "cell_type": "code",
   "execution_count": 83,
   "id": "d1c35f37",
   "metadata": {},
   "outputs": [],
   "source": [
    "ending_part=[end_part[i] for i in endings]"
   ]
  },
  {
   "cell_type": "code",
   "execution_count": 84,
   "id": "c2853516",
   "metadata": {},
   "outputs": [],
   "source": [
    "currency_values = [currency_rates[c] for c in currency_symbols]"
   ]
  },
  {
   "cell_type": "code",
   "execution_count": 85,
   "id": "97ba1925",
   "metadata": {},
   "outputs": [],
   "source": [
    "currency_values = [float(i) for i in currency_values]"
   ]
  },
  {
   "cell_type": "code",
   "execution_count": 86,
   "id": "b28d01c3",
   "metadata": {},
   "outputs": [],
   "source": [
    "amounts = [float(i) for i in amounts]"
   ]
  },
  {
   "cell_type": "code",
   "execution_count": 87,
   "id": "87247298",
   "metadata": {},
   "outputs": [],
   "source": [
    "amount_part=[a * b for a, b in zip(currency_values, amounts)]"
   ]
  },
  {
   "cell_type": "code",
   "execution_count": 88,
   "id": "51f600d7",
   "metadata": {},
   "outputs": [],
   "source": [
    "amount_part = [round(x, 2) for x in amount_part]"
   ]
  },
  {
   "cell_type": "code",
   "execution_count": 89,
   "id": "105e68e3",
   "metadata": {},
   "outputs": [],
   "source": [
    "final_money_raised=[a*b for a,b in zip(ending_part,amount_part)]"
   ]
  },
  {
   "cell_type": "code",
   "execution_count": 90,
   "id": "76869585",
   "metadata": {},
   "outputs": [],
   "source": [
    "#We've successfully gained the total money raised column as well now.\n",
    "df['final_money_raised']=final_money_raised"
   ]
  },
  {
   "cell_type": "code",
   "execution_count": 91,
   "id": "d162a40f",
   "metadata": {
    "scrolled": false
   },
   "outputs": [
    {
     "data": {
      "text/plain": [
       "array(['Not Found', 'funding round', 'seed round', 'convertible note',\n",
       "       'angel round', 'venture round', 'series a', 'post ipo equity',\n",
       "       'secondary market', 'series b', 'corporate round', 'series e',\n",
       "       'post ipo debt', 'private equity round', 'series d',\n",
       "       'debt financing', 'pre seed round', 'post', 'series c',\n",
       "       'non equity assistance', 'grant', 'series f',\n",
       "       'seed round   cirtru roommate finder', 'initial coin offering',\n",
       "       'series g', 'equity crowdfunding', 'post ipo secondary',\n",
       "       'series h', 'post ipo equity   kolte', 'series j',\n",
       "       'series b   peel', 'post ipo equity   saint',\n",
       "       'private equity round   t',\n",
       "       'venture round   ingenico healthcare/e',\n",
       "       'venture round   bigstylist', 'non equity assistance   e',\n",
       "       'series c   enterprise rent a', 'pre seed round   examtyari',\n",
       "       'angel round   sacumen', 'grant   emory university', 'grant   scm'],\n",
       "      dtype=object)"
      ]
     },
     "execution_count": 91,
     "metadata": {},
     "output_type": "execute_result"
    }
   ],
   "source": [
    "df.funding_type.unique()"
   ]
  },
  {
   "cell_type": "code",
   "execution_count": 92,
   "id": "b1e1568a",
   "metadata": {
    "scrolled": true
   },
   "outputs": [
    {
     "data": {
      "text/html": [
       "<div>\n",
       "<style scoped>\n",
       "    .dataframe tbody tr th:only-of-type {\n",
       "        vertical-align: middle;\n",
       "    }\n",
       "\n",
       "    .dataframe tbody tr th {\n",
       "        vertical-align: top;\n",
       "    }\n",
       "\n",
       "    .dataframe thead th {\n",
       "        text-align: right;\n",
       "    }\n",
       "</style>\n",
       "<table border=\"1\" class=\"dataframe\">\n",
       "  <thead>\n",
       "    <tr style=\"text-align: right;\">\n",
       "      <th></th>\n",
       "      <th>company</th>\n",
       "      <th>domain_name</th>\n",
       "      <th>c_url</th>\n",
       "      <th>type_p_s</th>\n",
       "      <th>description</th>\n",
       "      <th>website</th>\n",
       "      <th>max_exmp</th>\n",
       "      <th>min_emp</th>\n",
       "      <th>tags</th>\n",
       "      <th>domain</th>\n",
       "      <th>money_raised</th>\n",
       "      <th>funding_type</th>\n",
       "      <th>lead_investor</th>\n",
       "      <th>total_investor</th>\n",
       "      <th>founded_years</th>\n",
       "      <th>Similarity</th>\n",
       "      <th>Ranking Score</th>\n",
       "      <th>final_money_raised</th>\n",
       "    </tr>\n",
       "  </thead>\n",
       "  <tbody>\n",
       "    <tr>\n",
       "      <th>0</th>\n",
       "      <td>21st century insurance</td>\n",
       "      <td>21st</td>\n",
       "      <td>https://www.crunchbase.com/organization/21st-c...</td>\n",
       "      <td>Product-based</td>\n",
       "      <td>since 1958, 21st century insurance has been de...</td>\n",
       "      <td>www.21st.com</td>\n",
       "      <td>10000.0</td>\n",
       "      <td>5001.0</td>\n",
       "      <td>finance insurance</td>\n",
       "      <td>fintech_payment</td>\n",
       "      <td>₹1.1K</td>\n",
       "      <td>Not Found</td>\n",
       "      <td>None</td>\n",
       "      <td>0</td>\n",
       "      <td>20.01</td>\n",
       "      <td>0</td>\n",
       "      <td>2</td>\n",
       "      <td>1100.0</td>\n",
       "    </tr>\n",
       "    <tr>\n",
       "      <th>1</th>\n",
       "      <td>3d networks</td>\n",
       "      <td>3dnetworks</td>\n",
       "      <td>https://www.crunchbase.com/organization/3d-net...</td>\n",
       "      <td>Product-based</td>\n",
       "      <td>Not Found</td>\n",
       "      <td>www.3dnetworks.com</td>\n",
       "      <td>500.0</td>\n",
       "      <td>51.0</td>\n",
       "      <td>3d technology</td>\n",
       "      <td></td>\n",
       "      <td>₹1.1K</td>\n",
       "      <td>Not Found</td>\n",
       "      <td>None</td>\n",
       "      <td>0</td>\n",
       "      <td>23.35</td>\n",
       "      <td>0</td>\n",
       "      <td>1</td>\n",
       "      <td>1100.0</td>\n",
       "    </tr>\n",
       "    <tr>\n",
       "      <th>2</th>\n",
       "      <td>3dphy</td>\n",
       "      <td>3dphy</td>\n",
       "      <td>https://www.crunchbase.com/organization/3dphy-...</td>\n",
       "      <td>Product-based</td>\n",
       "      <td>3dphy provides a range of 3d virtual and augme...</td>\n",
       "      <td>www.3dphy.com</td>\n",
       "      <td>50.0</td>\n",
       "      <td>11.0</td>\n",
       "      <td>3d technology augmented reality e-commerce</td>\n",
       "      <td></td>\n",
       "      <td>₹13M</td>\n",
       "      <td>funding round</td>\n",
       "      <td>None</td>\n",
       "      <td>0</td>\n",
       "      <td>8.51</td>\n",
       "      <td>0</td>\n",
       "      <td>0</td>\n",
       "      <td>13000000.0</td>\n",
       "    </tr>\n",
       "    <tr>\n",
       "      <th>3</th>\n",
       "      <td>3lm</td>\n",
       "      <td>3lm</td>\n",
       "      <td>https://www.crunchbase.com/organization/3lm?ut...</td>\n",
       "      <td>Product-based</td>\n",
       "      <td>3lm has already signed deals to provide its te...</td>\n",
       "      <td>www.3lm.com</td>\n",
       "      <td>50.0</td>\n",
       "      <td>11.0</td>\n",
       "      <td>android enterprise software mobile</td>\n",
       "      <td></td>\n",
       "      <td>$1.5M</td>\n",
       "      <td>seed round</td>\n",
       "      <td>None</td>\n",
       "      <td>0</td>\n",
       "      <td>12.85</td>\n",
       "      <td>0</td>\n",
       "      <td>0</td>\n",
       "      <td>112730000.0</td>\n",
       "    </tr>\n",
       "    <tr>\n",
       "      <th>4</th>\n",
       "      <td>3m</td>\n",
       "      <td>3m</td>\n",
       "      <td>https://www.crunchbase.com/organization/3m?utm...</td>\n",
       "      <td>Product-based</td>\n",
       "      <td>3m operates as a diversified technology compan...</td>\n",
       "      <td>www.3m.com</td>\n",
       "      <td>10001.0</td>\n",
       "      <td>0.0</td>\n",
       "      <td>automotive electronics enterprise software</td>\n",
       "      <td>hardware</td>\n",
       "      <td>₹1.1K</td>\n",
       "      <td>Not Found</td>\n",
       "      <td>None</td>\n",
       "      <td>0</td>\n",
       "      <td>20.01</td>\n",
       "      <td>0</td>\n",
       "      <td>2</td>\n",
       "      <td>1100.0</td>\n",
       "    </tr>\n",
       "  </tbody>\n",
       "</table>\n",
       "</div>"
      ],
      "text/plain": [
       "                  company domain_name  \\\n",
       "0  21st century insurance        21st   \n",
       "1             3d networks  3dnetworks   \n",
       "2                   3dphy       3dphy   \n",
       "3                     3lm         3lm   \n",
       "4                      3m          3m   \n",
       "\n",
       "                                               c_url       type_p_s  \\\n",
       "0  https://www.crunchbase.com/organization/21st-c...  Product-based   \n",
       "1  https://www.crunchbase.com/organization/3d-net...  Product-based   \n",
       "2  https://www.crunchbase.com/organization/3dphy-...  Product-based   \n",
       "3  https://www.crunchbase.com/organization/3lm?ut...  Product-based   \n",
       "4  https://www.crunchbase.com/organization/3m?utm...  Product-based   \n",
       "\n",
       "                                         description             website  \\\n",
       "0  since 1958, 21st century insurance has been de...        www.21st.com   \n",
       "1                                          Not Found  www.3dnetworks.com   \n",
       "2  3dphy provides a range of 3d virtual and augme...       www.3dphy.com   \n",
       "3  3lm has already signed deals to provide its te...         www.3lm.com   \n",
       "4  3m operates as a diversified technology compan...          www.3m.com   \n",
       "\n",
       "   max_exmp  min_emp                                        tags  \\\n",
       "0   10000.0   5001.0                           finance insurance   \n",
       "1     500.0     51.0                               3d technology   \n",
       "2      50.0     11.0  3d technology augmented reality e-commerce   \n",
       "3      50.0     11.0          android enterprise software mobile   \n",
       "4   10001.0      0.0  automotive electronics enterprise software   \n",
       "\n",
       "            domain money_raised   funding_type lead_investor  total_investor  \\\n",
       "0  fintech_payment        ₹1.1K      Not Found          None               0   \n",
       "1                         ₹1.1K      Not Found          None               0   \n",
       "2                          ₹13M  funding round          None               0   \n",
       "3                         $1.5M     seed round          None               0   \n",
       "4         hardware        ₹1.1K      Not Found          None               0   \n",
       "\n",
       "   founded_years  Similarity  Ranking Score  final_money_raised  \n",
       "0          20.01           0              2              1100.0  \n",
       "1          23.35           0              1              1100.0  \n",
       "2           8.51           0              0          13000000.0  \n",
       "3          12.85           0              0         112730000.0  \n",
       "4          20.01           0              2              1100.0  "
      ]
     },
     "execution_count": 92,
     "metadata": {},
     "output_type": "execute_result"
    }
   ],
   "source": [
    "df.head()"
   ]
  },
  {
   "cell_type": "markdown",
   "id": "e00cc021",
   "metadata": {},
   "source": [
    "# Major definition for the second question"
   ]
  },
  {
   "cell_type": "code",
   "execution_count": 94,
   "id": "44814780",
   "metadata": {},
   "outputs": [],
   "source": [
    "def company_growth(domain):    \n",
    "    \"\"\"\n",
    "    This function takes a domain as input and returns the highest and slowest growth rate companies and their leading investors.\n",
    "    \n",
    "    Parameters:\n",
    "    domain (str): The domain for which companies need to be searched.\n",
    "    \n",
    "    Returns:\n",
    "    None\n",
    "    \"\"\"\n",
    "    \n",
    "    tag_data = df[df['tags'].str.contains(domain)]\n",
    "\n",
    "    # calculate growth rate for each row\n",
    "    tag_data['growth_rate'] = tag_data['final_money_raised'] / tag_data['founded_years']\n",
    "\n",
    "    # sort rows based on growth rate in descending order\n",
    "    tag_data = tag_data.sort_values(by='growth_rate', ascending=False)\n",
    "\n",
    "    # get company with highest growth rate\n",
    "    highest_growth_company = tag_data.iloc[0]['company']\n",
    "\n",
    "    # get company with slowest growth rate\n",
    "    slowest_growth_company = tag_data.iloc[-1]['company']\n",
    "    highest_growth_investors = tag_data.iloc[0]['lead_investor']\n",
    "    slowest_growth_investors = tag_data.iloc[-1]['lead_investor']\n",
    "\n",
    "    print(f\"Highest growth company in {domain_input}: {highest_growth_company}, with {highest_growth_investors} leading investors\")\n",
    "    print(f\"Slowest growth company in {domain_input}: {slowest_growth_company}, with {slowest_growth_investors} leading investors\")\n"
   ]
  },
  {
   "cell_type": "markdown",
   "id": "783d03af",
   "metadata": {},
   "source": [
    "## Enter the domain that you want the highest and the slowest company growth names."
   ]
  },
  {
   "cell_type": "code",
   "execution_count": 95,
   "id": "0b925d46",
   "metadata": {
    "scrolled": true
   },
   "outputs": [
    {
     "name": "stdout",
     "output_type": "stream",
     "text": [
      "Enter the domain that you want to know the company with the highest and the slowest growth in: research\n",
      "Highest growth company in research: qualtrics, with accel leading investors\n",
      "Slowest growth company in research: millward brown, with None leading investors\n"
     ]
    }
   ],
   "source": [
    "domain_input=input(\"Enter the domain that you want to know the company with the highest and the slowest growth in: \")\n",
    "company_growth(domain_input)"
   ]
  },
  {
   "cell_type": "markdown",
   "id": "966e4fca",
   "metadata": {},
   "source": [
    "## Finding some insights using tableau"
   ]
  },
  {
   "cell_type": "code",
   "execution_count": 96,
   "id": "fee2ab8c",
   "metadata": {},
   "outputs": [],
   "source": [
    "df.to_csv('tableau_work_spottabl.csv',index=False)"
   ]
  },
  {
   "cell_type": "markdown",
   "id": "48993f1c",
   "metadata": {},
   "source": [
    "### The below picture depicts that Indiafirst Life company has raised the highest amount of money=Rs. 533,570,000,000. And its lead investor is warburg pincus.\n",
    "### With second one being apple with lead investor as berkshire hathaway"
   ]
  },
  {
   "attachments": {
    "pic%201.png": {
     "image/png": "[encoded data removed]"
    }
   },
   "cell_type": "markdown",
   "id": "c2e9ac69",
   "metadata": {},
   "source": [
    "![pic%201.png](attachment:pic%201.png)"
   ]
  },
  {
   "cell_type": "markdown",
   "id": "e97614e7",
   "metadata": {},
   "source": [
    "### In this visual we can see that (Post IPO Equity) funds had the max amount of money raised and venture round had the maximum number of investors, but is still on 4th number for money raised."
   ]
  },
  {
   "attachments": {
    "2.png": {
     "image/png": "[encoded data removed]"
    }
   },
   "cell_type": "markdown",
   "id": "1597895c",
   "metadata": {},
   "source": [
    "![2.png](attachment:2.png)"
   ]
  },
  {
   "cell_type": "markdown",
   "id": "1163b3b3",
   "metadata": {},
   "source": [
    "### Upon filtering the companies based on the averga emoney raised, arcs inc a xerox company totally is in the leading position. After which verizon labs is the second company"
   ]
  },
  {
   "attachments": {
    "3.png": {
     "image/png": "[encoded data removed]"
    }
   },
   "cell_type": "markdown",
   "id": "245d2cae",
   "metadata": {},
   "source": [
    "![3.png](attachment:3.png)"
   ]
  },
  {
   "cell_type": "markdown",
   "id": "cac0df80",
   "metadata": {},
   "source": [
    "## After looking at the visuals of all companies, I'm able to see that mostly the companies in the second lower quartile have maximum number of investors, they are not recently founded but not old either."
   ]
  },
  {
   "cell_type": "markdown",
   "id": "513c8c2e",
   "metadata": {},
   "source": [
    "### We can see that worldline global, western didgital are one of the oldest companies with atleast 10001 employees."
   ]
  },
  {
   "attachments": {
    "4.png": {
     "image/png": "[encoded data removed]"
    }
   },
   "cell_type": "markdown",
   "id": "2e9a5c2a",
   "metadata": {},
   "source": [
    "![4.png](attachment:4.png)"
   ]
  },
  {
   "cell_type": "markdown",
   "id": "0a9978dc",
   "metadata": {},
   "source": [
    "# Thank you very much for shortlisting me and for providing with this brainstorming assignment. Hoping to get your feedback on this assignment and find my spot in spottabl."
   ]
  },
  {
   "cell_type": "code",
   "execution_count": null,
   "id": "aa06df9d",
   "metadata": {},
   "outputs": [],
   "source": []
  }
 ],
 "metadata": {
  "kernelspec": {
   "display_name": "Python 3 (ipykernel)",
   "language": "python",
   "name": "python3"
  },
  "language_info": {
   "codemirror_mode": {
    "name": "ipython",
    "version": 3
   },
   "file_extension": ".py",
   "mimetype": "text/x-python",
   "name": "python",
   "nbconvert_exporter": "python",
   "pygments_lexer": "ipython3",
   "version": "3.9.13"
  }
 },
 "nbformat": 4,
 "nbformat_minor": 5
}
